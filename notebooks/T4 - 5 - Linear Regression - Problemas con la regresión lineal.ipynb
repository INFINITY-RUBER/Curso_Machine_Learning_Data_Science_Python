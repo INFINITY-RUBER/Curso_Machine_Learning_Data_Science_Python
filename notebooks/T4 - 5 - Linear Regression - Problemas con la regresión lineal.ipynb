{
 "cells": [
  {
   "cell_type": "markdown",
   "metadata": {},
   "source": [
    "# El tratamiento de las variables categóricas"
   ]
  },
  {
   "cell_type": "code",
   "execution_count": 3,
   "metadata": {},
   "outputs": [],
   "source": [
    "import pandas as pd\n",
    "import numpy as np\n",
    "from sklearn.linear_model import LinearRegression"
   ]
  },
  {
   "cell_type": "code",
   "execution_count": 4,
   "metadata": {},
   "outputs": [],
   "source": [
    "df = pd.read_csv(\"../datasets/ecom-expense/Ecom Expense.csv\")"
   ]
  },
  {
   "cell_type": "code",
   "execution_count": 5,
   "metadata": {},
   "outputs": [
    {
     "data": {
      "text/html": [
       "<div>\n",
       "<style scoped>\n",
       "    .dataframe tbody tr th:only-of-type {\n",
       "        vertical-align: middle;\n",
       "    }\n",
       "\n",
       "    .dataframe tbody tr th {\n",
       "        vertical-align: top;\n",
       "    }\n",
       "\n",
       "    .dataframe thead th {\n",
       "        text-align: right;\n",
       "    }\n",
       "</style>\n",
       "<table border=\"1\" class=\"dataframe\">\n",
       "  <thead>\n",
       "    <tr style=\"text-align: right;\">\n",
       "      <th></th>\n",
       "      <th>Transaction ID</th>\n",
       "      <th>Age</th>\n",
       "      <th>Items</th>\n",
       "      <th>Monthly Income</th>\n",
       "      <th>Transaction Time</th>\n",
       "      <th>Record</th>\n",
       "      <th>Gender</th>\n",
       "      <th>City Tier</th>\n",
       "      <th>Total Spend</th>\n",
       "    </tr>\n",
       "  </thead>\n",
       "  <tbody>\n",
       "    <tr>\n",
       "      <th>0</th>\n",
       "      <td>TXN001</td>\n",
       "      <td>42</td>\n",
       "      <td>10</td>\n",
       "      <td>7313</td>\n",
       "      <td>627.668127</td>\n",
       "      <td>5</td>\n",
       "      <td>Female</td>\n",
       "      <td>Tier 1</td>\n",
       "      <td>4198.385084</td>\n",
       "    </tr>\n",
       "    <tr>\n",
       "      <th>1</th>\n",
       "      <td>TXN002</td>\n",
       "      <td>24</td>\n",
       "      <td>8</td>\n",
       "      <td>17747</td>\n",
       "      <td>126.904567</td>\n",
       "      <td>3</td>\n",
       "      <td>Female</td>\n",
       "      <td>Tier 2</td>\n",
       "      <td>4134.976648</td>\n",
       "    </tr>\n",
       "    <tr>\n",
       "      <th>2</th>\n",
       "      <td>TXN003</td>\n",
       "      <td>47</td>\n",
       "      <td>11</td>\n",
       "      <td>22845</td>\n",
       "      <td>873.469701</td>\n",
       "      <td>2</td>\n",
       "      <td>Male</td>\n",
       "      <td>Tier 2</td>\n",
       "      <td>5166.614455</td>\n",
       "    </tr>\n",
       "    <tr>\n",
       "      <th>3</th>\n",
       "      <td>TXN004</td>\n",
       "      <td>50</td>\n",
       "      <td>11</td>\n",
       "      <td>18552</td>\n",
       "      <td>380.219428</td>\n",
       "      <td>7</td>\n",
       "      <td>Female</td>\n",
       "      <td>Tier 1</td>\n",
       "      <td>7784.447676</td>\n",
       "    </tr>\n",
       "    <tr>\n",
       "      <th>4</th>\n",
       "      <td>TXN005</td>\n",
       "      <td>60</td>\n",
       "      <td>2</td>\n",
       "      <td>14439</td>\n",
       "      <td>403.374223</td>\n",
       "      <td>2</td>\n",
       "      <td>Female</td>\n",
       "      <td>Tier 2</td>\n",
       "      <td>3254.160485</td>\n",
       "    </tr>\n",
       "  </tbody>\n",
       "</table>\n",
       "</div>"
      ],
      "text/plain": [
       "  Transaction ID  Age    Items   Monthly Income  Transaction Time  Record  \\\n",
       "0         TXN001    42       10            7313        627.668127       5   \n",
       "1         TXN002    24        8           17747        126.904567       3   \n",
       "2         TXN003    47       11           22845        873.469701       2   \n",
       "3         TXN004    50       11           18552        380.219428       7   \n",
       "4         TXN005    60        2           14439        403.374223       2   \n",
       "\n",
       "   Gender City Tier  Total Spend  \n",
       "0  Female    Tier 1  4198.385084  \n",
       "1  Female    Tier 2  4134.976648  \n",
       "2    Male    Tier 2  5166.614455  \n",
       "3  Female    Tier 1  7784.447676  \n",
       "4  Female    Tier 2  3254.160485  "
      ]
     },
     "execution_count": 5,
     "metadata": {},
     "output_type": "execute_result"
    }
   ],
   "source": [
    "df.head()"
   ]
  },
  {
   "cell_type": "code",
   "execution_count": 6,
   "metadata": {},
   "outputs": [],
   "source": [
    "dummy_gender = pd.get_dummies(df[\"Gender\"], prefix = \"Gender\")# se crea variables dumix\n",
    "dummy_city_tier = pd.get_dummies(df[\"City Tier\"], prefix = \"City\")# se crea variables dumix"
   ]
  },
  {
   "cell_type": "code",
   "execution_count": 7,
   "metadata": {},
   "outputs": [
    {
     "data": {
      "text/html": [
       "<div>\n",
       "<style scoped>\n",
       "    .dataframe tbody tr th:only-of-type {\n",
       "        vertical-align: middle;\n",
       "    }\n",
       "\n",
       "    .dataframe tbody tr th {\n",
       "        vertical-align: top;\n",
       "    }\n",
       "\n",
       "    .dataframe thead th {\n",
       "        text-align: right;\n",
       "    }\n",
       "</style>\n",
       "<table border=\"1\" class=\"dataframe\">\n",
       "  <thead>\n",
       "    <tr style=\"text-align: right;\">\n",
       "      <th></th>\n",
       "      <th>Gender_Female</th>\n",
       "      <th>Gender_Male</th>\n",
       "    </tr>\n",
       "  </thead>\n",
       "  <tbody>\n",
       "    <tr>\n",
       "      <th>0</th>\n",
       "      <td>1</td>\n",
       "      <td>0</td>\n",
       "    </tr>\n",
       "    <tr>\n",
       "      <th>1</th>\n",
       "      <td>1</td>\n",
       "      <td>0</td>\n",
       "    </tr>\n",
       "    <tr>\n",
       "      <th>2</th>\n",
       "      <td>0</td>\n",
       "      <td>1</td>\n",
       "    </tr>\n",
       "    <tr>\n",
       "      <th>3</th>\n",
       "      <td>1</td>\n",
       "      <td>0</td>\n",
       "    </tr>\n",
       "    <tr>\n",
       "      <th>4</th>\n",
       "      <td>1</td>\n",
       "      <td>0</td>\n",
       "    </tr>\n",
       "  </tbody>\n",
       "</table>\n",
       "</div>"
      ],
      "text/plain": [
       "   Gender_Female  Gender_Male\n",
       "0              1            0\n",
       "1              1            0\n",
       "2              0            1\n",
       "3              1            0\n",
       "4              1            0"
      ]
     },
     "execution_count": 7,
     "metadata": {},
     "output_type": "execute_result"
    }
   ],
   "source": [
    "dummy_gender.head()"
   ]
  },
  {
   "cell_type": "code",
   "execution_count": 8,
   "metadata": {},
   "outputs": [
    {
     "data": {
      "text/html": [
       "<div>\n",
       "<style scoped>\n",
       "    .dataframe tbody tr th:only-of-type {\n",
       "        vertical-align: middle;\n",
       "    }\n",
       "\n",
       "    .dataframe tbody tr th {\n",
       "        vertical-align: top;\n",
       "    }\n",
       "\n",
       "    .dataframe thead th {\n",
       "        text-align: right;\n",
       "    }\n",
       "</style>\n",
       "<table border=\"1\" class=\"dataframe\">\n",
       "  <thead>\n",
       "    <tr style=\"text-align: right;\">\n",
       "      <th></th>\n",
       "      <th>City_Tier 1</th>\n",
       "      <th>City_Tier 2</th>\n",
       "      <th>City_Tier 3</th>\n",
       "    </tr>\n",
       "  </thead>\n",
       "  <tbody>\n",
       "    <tr>\n",
       "      <th>0</th>\n",
       "      <td>1</td>\n",
       "      <td>0</td>\n",
       "      <td>0</td>\n",
       "    </tr>\n",
       "    <tr>\n",
       "      <th>1</th>\n",
       "      <td>0</td>\n",
       "      <td>1</td>\n",
       "      <td>0</td>\n",
       "    </tr>\n",
       "    <tr>\n",
       "      <th>2</th>\n",
       "      <td>0</td>\n",
       "      <td>1</td>\n",
       "      <td>0</td>\n",
       "    </tr>\n",
       "    <tr>\n",
       "      <th>3</th>\n",
       "      <td>1</td>\n",
       "      <td>0</td>\n",
       "      <td>0</td>\n",
       "    </tr>\n",
       "    <tr>\n",
       "      <th>4</th>\n",
       "      <td>0</td>\n",
       "      <td>1</td>\n",
       "      <td>0</td>\n",
       "    </tr>\n",
       "  </tbody>\n",
       "</table>\n",
       "</div>"
      ],
      "text/plain": [
       "   City_Tier 1  City_Tier 2  City_Tier 3\n",
       "0            1            0            0\n",
       "1            0            1            0\n",
       "2            0            1            0\n",
       "3            1            0            0\n",
       "4            0            1            0"
      ]
     },
     "execution_count": 8,
     "metadata": {},
     "output_type": "execute_result"
    }
   ],
   "source": [
    "dummy_city_tier.head()"
   ]
  },
  {
   "cell_type": "code",
   "execution_count": 9,
   "metadata": {},
   "outputs": [
    {
     "data": {
      "text/plain": [
       "['Transaction ID',\n",
       " 'Age ',\n",
       " ' Items ',\n",
       " 'Monthly Income',\n",
       " 'Transaction Time',\n",
       " 'Record',\n",
       " 'Gender',\n",
       " 'City Tier',\n",
       " 'Total Spend']"
      ]
     },
     "execution_count": 9,
     "metadata": {},
     "output_type": "execute_result"
    }
   ],
   "source": [
    "column_names = df.columns.values.tolist() # convertimos las columnas a listas de df\n",
    "column_names"
   ]
  },
  {
   "cell_type": "code",
   "execution_count": 10,
   "metadata": {},
   "outputs": [
    {
     "data": {
      "text/html": [
       "<div>\n",
       "<style scoped>\n",
       "    .dataframe tbody tr th:only-of-type {\n",
       "        vertical-align: middle;\n",
       "    }\n",
       "\n",
       "    .dataframe tbody tr th {\n",
       "        vertical-align: top;\n",
       "    }\n",
       "\n",
       "    .dataframe thead th {\n",
       "        text-align: right;\n",
       "    }\n",
       "</style>\n",
       "<table border=\"1\" class=\"dataframe\">\n",
       "  <thead>\n",
       "    <tr style=\"text-align: right;\">\n",
       "      <th></th>\n",
       "      <th>Transaction ID</th>\n",
       "      <th>Age</th>\n",
       "      <th>Items</th>\n",
       "      <th>Monthly Income</th>\n",
       "      <th>Transaction Time</th>\n",
       "      <th>Record</th>\n",
       "      <th>Gender</th>\n",
       "      <th>City Tier</th>\n",
       "      <th>Total Spend</th>\n",
       "      <th>Gender_Female</th>\n",
       "      <th>Gender_Male</th>\n",
       "    </tr>\n",
       "  </thead>\n",
       "  <tbody>\n",
       "    <tr>\n",
       "      <th>0</th>\n",
       "      <td>TXN001</td>\n",
       "      <td>42</td>\n",
       "      <td>10</td>\n",
       "      <td>7313</td>\n",
       "      <td>627.668127</td>\n",
       "      <td>5</td>\n",
       "      <td>Female</td>\n",
       "      <td>Tier 1</td>\n",
       "      <td>4198.385084</td>\n",
       "      <td>1</td>\n",
       "      <td>0</td>\n",
       "    </tr>\n",
       "    <tr>\n",
       "      <th>1</th>\n",
       "      <td>TXN002</td>\n",
       "      <td>24</td>\n",
       "      <td>8</td>\n",
       "      <td>17747</td>\n",
       "      <td>126.904567</td>\n",
       "      <td>3</td>\n",
       "      <td>Female</td>\n",
       "      <td>Tier 2</td>\n",
       "      <td>4134.976648</td>\n",
       "      <td>1</td>\n",
       "      <td>0</td>\n",
       "    </tr>\n",
       "    <tr>\n",
       "      <th>2</th>\n",
       "      <td>TXN003</td>\n",
       "      <td>47</td>\n",
       "      <td>11</td>\n",
       "      <td>22845</td>\n",
       "      <td>873.469701</td>\n",
       "      <td>2</td>\n",
       "      <td>Male</td>\n",
       "      <td>Tier 2</td>\n",
       "      <td>5166.614455</td>\n",
       "      <td>0</td>\n",
       "      <td>1</td>\n",
       "    </tr>\n",
       "    <tr>\n",
       "      <th>3</th>\n",
       "      <td>TXN004</td>\n",
       "      <td>50</td>\n",
       "      <td>11</td>\n",
       "      <td>18552</td>\n",
       "      <td>380.219428</td>\n",
       "      <td>7</td>\n",
       "      <td>Female</td>\n",
       "      <td>Tier 1</td>\n",
       "      <td>7784.447676</td>\n",
       "      <td>1</td>\n",
       "      <td>0</td>\n",
       "    </tr>\n",
       "    <tr>\n",
       "      <th>4</th>\n",
       "      <td>TXN005</td>\n",
       "      <td>60</td>\n",
       "      <td>2</td>\n",
       "      <td>14439</td>\n",
       "      <td>403.374223</td>\n",
       "      <td>2</td>\n",
       "      <td>Female</td>\n",
       "      <td>Tier 2</td>\n",
       "      <td>3254.160485</td>\n",
       "      <td>1</td>\n",
       "      <td>0</td>\n",
       "    </tr>\n",
       "  </tbody>\n",
       "</table>\n",
       "</div>"
      ],
      "text/plain": [
       "  Transaction ID  Age    Items   Monthly Income  Transaction Time  Record  \\\n",
       "0         TXN001    42       10            7313        627.668127       5   \n",
       "1         TXN002    24        8           17747        126.904567       3   \n",
       "2         TXN003    47       11           22845        873.469701       2   \n",
       "3         TXN004    50       11           18552        380.219428       7   \n",
       "4         TXN005    60        2           14439        403.374223       2   \n",
       "\n",
       "   Gender City Tier  Total Spend  Gender_Female  Gender_Male  \n",
       "0  Female    Tier 1  4198.385084              1            0  \n",
       "1  Female    Tier 2  4134.976648              1            0  \n",
       "2    Male    Tier 2  5166.614455              0            1  \n",
       "3  Female    Tier 1  7784.447676              1            0  \n",
       "4  Female    Tier 2  3254.160485              1            0  "
      ]
     },
     "execution_count": 10,
     "metadata": {},
     "output_type": "execute_result"
    }
   ],
   "source": [
    "df_new = df[column_names].join(dummy_gender) # agrego los Dumix con join a un nueco dataset\n",
    "column_names = df_new.columns.values.tolist() # renuevo la lista del nuevo dataset\n",
    "df_new.head()"
   ]
  },
  {
   "cell_type": "code",
   "execution_count": 11,
   "metadata": {},
   "outputs": [
    {
     "data": {
      "text/html": [
       "<div>\n",
       "<style scoped>\n",
       "    .dataframe tbody tr th:only-of-type {\n",
       "        vertical-align: middle;\n",
       "    }\n",
       "\n",
       "    .dataframe tbody tr th {\n",
       "        vertical-align: top;\n",
       "    }\n",
       "\n",
       "    .dataframe thead th {\n",
       "        text-align: right;\n",
       "    }\n",
       "</style>\n",
       "<table border=\"1\" class=\"dataframe\">\n",
       "  <thead>\n",
       "    <tr style=\"text-align: right;\">\n",
       "      <th></th>\n",
       "      <th>Transaction ID</th>\n",
       "      <th>Age</th>\n",
       "      <th>Items</th>\n",
       "      <th>Monthly Income</th>\n",
       "      <th>Transaction Time</th>\n",
       "      <th>Record</th>\n",
       "      <th>Gender</th>\n",
       "      <th>City Tier</th>\n",
       "      <th>Total Spend</th>\n",
       "      <th>Gender_Female</th>\n",
       "      <th>Gender_Male</th>\n",
       "      <th>City_Tier 1</th>\n",
       "      <th>City_Tier 2</th>\n",
       "      <th>City_Tier 3</th>\n",
       "    </tr>\n",
       "  </thead>\n",
       "  <tbody>\n",
       "    <tr>\n",
       "      <th>0</th>\n",
       "      <td>TXN001</td>\n",
       "      <td>42</td>\n",
       "      <td>10</td>\n",
       "      <td>7313</td>\n",
       "      <td>627.668127</td>\n",
       "      <td>5</td>\n",
       "      <td>Female</td>\n",
       "      <td>Tier 1</td>\n",
       "      <td>4198.385084</td>\n",
       "      <td>1</td>\n",
       "      <td>0</td>\n",
       "      <td>1</td>\n",
       "      <td>0</td>\n",
       "      <td>0</td>\n",
       "    </tr>\n",
       "    <tr>\n",
       "      <th>1</th>\n",
       "      <td>TXN002</td>\n",
       "      <td>24</td>\n",
       "      <td>8</td>\n",
       "      <td>17747</td>\n",
       "      <td>126.904567</td>\n",
       "      <td>3</td>\n",
       "      <td>Female</td>\n",
       "      <td>Tier 2</td>\n",
       "      <td>4134.976648</td>\n",
       "      <td>1</td>\n",
       "      <td>0</td>\n",
       "      <td>0</td>\n",
       "      <td>1</td>\n",
       "      <td>0</td>\n",
       "    </tr>\n",
       "    <tr>\n",
       "      <th>2</th>\n",
       "      <td>TXN003</td>\n",
       "      <td>47</td>\n",
       "      <td>11</td>\n",
       "      <td>22845</td>\n",
       "      <td>873.469701</td>\n",
       "      <td>2</td>\n",
       "      <td>Male</td>\n",
       "      <td>Tier 2</td>\n",
       "      <td>5166.614455</td>\n",
       "      <td>0</td>\n",
       "      <td>1</td>\n",
       "      <td>0</td>\n",
       "      <td>1</td>\n",
       "      <td>0</td>\n",
       "    </tr>\n",
       "    <tr>\n",
       "      <th>3</th>\n",
       "      <td>TXN004</td>\n",
       "      <td>50</td>\n",
       "      <td>11</td>\n",
       "      <td>18552</td>\n",
       "      <td>380.219428</td>\n",
       "      <td>7</td>\n",
       "      <td>Female</td>\n",
       "      <td>Tier 1</td>\n",
       "      <td>7784.447676</td>\n",
       "      <td>1</td>\n",
       "      <td>0</td>\n",
       "      <td>1</td>\n",
       "      <td>0</td>\n",
       "      <td>0</td>\n",
       "    </tr>\n",
       "    <tr>\n",
       "      <th>4</th>\n",
       "      <td>TXN005</td>\n",
       "      <td>60</td>\n",
       "      <td>2</td>\n",
       "      <td>14439</td>\n",
       "      <td>403.374223</td>\n",
       "      <td>2</td>\n",
       "      <td>Female</td>\n",
       "      <td>Tier 2</td>\n",
       "      <td>3254.160485</td>\n",
       "      <td>1</td>\n",
       "      <td>0</td>\n",
       "      <td>0</td>\n",
       "      <td>1</td>\n",
       "      <td>0</td>\n",
       "    </tr>\n",
       "  </tbody>\n",
       "</table>\n",
       "</div>"
      ],
      "text/plain": [
       "  Transaction ID  Age    Items   Monthly Income  Transaction Time  Record  \\\n",
       "0         TXN001    42       10            7313        627.668127       5   \n",
       "1         TXN002    24        8           17747        126.904567       3   \n",
       "2         TXN003    47       11           22845        873.469701       2   \n",
       "3         TXN004    50       11           18552        380.219428       7   \n",
       "4         TXN005    60        2           14439        403.374223       2   \n",
       "\n",
       "   Gender City Tier  Total Spend  Gender_Female  Gender_Male  City_Tier 1  \\\n",
       "0  Female    Tier 1  4198.385084              1            0            1   \n",
       "1  Female    Tier 2  4134.976648              1            0            0   \n",
       "2    Male    Tier 2  5166.614455              0            1            0   \n",
       "3  Female    Tier 1  7784.447676              1            0            1   \n",
       "4  Female    Tier 2  3254.160485              1            0            0   \n",
       "\n",
       "   City_Tier 2  City_Tier 3  \n",
       "0            0            0  \n",
       "1            1            0  \n",
       "2            1            0  \n",
       "3            0            0  \n",
       "4            1            0  "
      ]
     },
     "execution_count": 11,
     "metadata": {},
     "output_type": "execute_result"
    }
   ],
   "source": [
    "df_new = df_new[column_names].join(dummy_city_tier)# agrego el otro Dumix con join al nuevo dataset\n",
    "df_new.head()"
   ]
  },
  {
   "cell_type": "code",
   "execution_count": 12,
   "metadata": {},
   "outputs": [],
   "source": [
    "# Selecionamos las columnas que queremos analizar\n",
    "feature_cols = [\"Monthly Income\", \"Transaction Time\", \n",
    "                \"Gender_Female\", \"Gender_Male\", \n",
    "                \"City_Tier 1\", \"City_Tier 2\", \"City_Tier 3\",\n",
    "                \"Record\"]"
   ]
  },
  {
   "cell_type": "code",
   "execution_count": 13,
   "metadata": {},
   "outputs": [],
   "source": [
    "# CREAMOS LOS DOS DATASET PARA USAR LA LIBRERIA \"LinearRegression\"\n",
    "X = df_new[feature_cols]\n",
    "Y = df_new[\"Total Spend\"]"
   ]
  },
  {
   "cell_type": "code",
   "execution_count": 14,
   "metadata": {},
   "outputs": [
    {
     "data": {
      "text/plain": [
       "LinearRegression(copy_X=True, fit_intercept=True, n_jobs=None, normalize=False)"
      ]
     },
     "execution_count": 14,
     "metadata": {},
     "output_type": "execute_result"
    }
   ],
   "source": [
    "lm = LinearRegression()# Nos crea el modelo\n",
    "lm.fit(X,Y)# insertamos los parametros al modelo"
   ]
  },
  {
   "cell_type": "code",
   "execution_count": 15,
   "metadata": {},
   "outputs": [
    {
     "name": "stdout",
     "output_type": "stream",
     "text": [
      "intercept_: -79.41713030137089\n",
      "coef_: [ 1.47538980e-01  1.54946125e-01 -1.31025013e+02  1.31025013e+02\n",
      "  7.67643260e+01  5.51389743e+01 -1.31903300e+02  7.72233446e+02]\n"
     ]
    }
   ],
   "source": [
    "# cortes y coeficientes\n",
    "print(\"intercept_:\",lm.intercept_)\n",
    "print(\"coef_:\",lm.coef_)"
   ]
  },
  {
   "cell_type": "code",
   "execution_count": 16,
   "metadata": {},
   "outputs": [
    {
     "data": {
      "text/plain": [
       "[('Monthly Income', 0.14753898049205735),\n",
       " ('Transaction Time', 0.1549461254958957),\n",
       " ('Gender_Female', -131.02501325554607),\n",
       " ('Gender_Male', 131.0250132555461),\n",
       " ('City_Tier 1', 76.7643260104954),\n",
       " ('City_Tier 2', 55.13897430923231),\n",
       " ('City_Tier 3', -131.90330031972783),\n",
       " ('Record', 772.2334457445644)]"
      ]
     },
     "execution_count": 16,
     "metadata": {},
     "output_type": "execute_result"
    }
   ],
   "source": [
    "list(zip(feature_cols, lm.coef_)) # genero una tupla con las columnas y el coeficiente"
   ]
  },
  {
   "cell_type": "code",
   "execution_count": 17,
   "metadata": {},
   "outputs": [
    {
     "data": {
      "text/plain": [
       "0.9179923586131016"
      ]
     },
     "execution_count": 17,
     "metadata": {},
     "output_type": "execute_result"
    }
   ],
   "source": [
    "lm.score(X,Y)# validar lo bueno del modelo ( Factor R^2)"
   ]
  },
  {
   "cell_type": "markdown",
   "metadata": {},
   "source": [
    "### El modelo puede ser escrito como:\n",
    "* **Total_Spend = -79.41713030137362 + 'Monthly Income'* 0.14753898049205738 + 'Transaction Time'* 0.15494612549589545+'Gender_Female'* -131.02501325554567 + 'Gender_Male'* 131.0250132555456+'City_Tier 1'* 76.76432601049527 + 'City_Tier 2'* 55.138974309232474 + 'City_Tier 3'* -131.9033003197278+'Record'* 772.2334457445648**\n",
    "\n",
    "    * Si es hombre y vive en CT1: Total_Spend = 128.37220896466724 + 'Monthly Income'* 0.14753898049205738 + 'Transaction Time'* 0.15494612549589545+'Record'* 772.2334457445648\n",
    "    * Si es hombre y vive en CT2: Total_Spend = 106.74685726340445 + 'Monthly Income'* 0.14753898049205738 + 'Transaction Time'* 0.15494612549589545 +'Record'* 772.2334457445648\n",
    "    * Si es hombre y vive en CT3: Total_Spend = -80.29541736555583 + 'Monthly Income'* 0.14753898049205738 + 'Transaction Time'* 0.15494612549589545+'Record'* 772.2334457445648\n",
    "    * Si es mujer y vive en CT1: Total_Spend = -79.41713030137362 + 'Monthly Income'* 0.14753898049205738 + 'Transaction Time'* 0.15494612549589545 - 131.0250132555456+ 76.76432601049527 +'Record'* 772.2334457445648\n",
    "    * Si es mujer y vive en CT2: Total_Spend = -79.41713030137362 + 'Monthly Income'* 0.14753898049205738 + 'Transaction Time'* 0.15494612549589545 - 131.0250132555456+ 55.138974309232474  +'Record'* 772.2334457445648\n",
    "    * Si es mujer y vive en CT3: Total_Spend = -79.41713030137362 + 'Monthly Income'* 0.14753898049205738 + 'Transaction Time'* 0.15494612549589545 - 131.0250132555456-131.9033003197278 +'Record'* 772.2334457445648"
   ]
  },
  {
   "cell_type": "code",
   "execution_count": 18,
   "metadata": {},
   "outputs": [
    {
     "data": {
      "text/plain": [
       "-80.29541736555583"
      ]
     },
     "execution_count": 18,
     "metadata": {},
     "output_type": "execute_result"
    }
   ],
   "source": [
    " -79.41713030137362 + 131.0250132555456 - 131.9033003197278"
   ]
  },
  {
   "cell_type": "code",
   "execution_count": 19,
   "metadata": {},
   "outputs": [],
   "source": [
    "# predicion de gastos\n",
    "df_new[\"prediction\"] = -79.41713030137362 + df_new['Monthly Income']*0.14753898049205738 + df_new['Transaction Time']* 0.15494612549589545+ df_new['Gender_Female'] * (-131.02501325554567) + df_new['Gender_Male'] * 131.0250132555456+ df_new['City_Tier 1']* 76.76432601049527 +  df_new['City_Tier 2']* 55.138974309232474 + df_new['City_Tier 3']* (-131.9033003197278)+ df_new['Record']* 772.2334457445648"
   ]
  },
  {
   "cell_type": "code",
   "execution_count": 20,
   "metadata": {},
   "outputs": [
    {
     "data": {
      "text/html": [
       "<div>\n",
       "<style scoped>\n",
       "    .dataframe tbody tr th:only-of-type {\n",
       "        vertical-align: middle;\n",
       "    }\n",
       "\n",
       "    .dataframe tbody tr th {\n",
       "        vertical-align: top;\n",
       "    }\n",
       "\n",
       "    .dataframe thead th {\n",
       "        text-align: right;\n",
       "    }\n",
       "</style>\n",
       "<table border=\"1\" class=\"dataframe\">\n",
       "  <thead>\n",
       "    <tr style=\"text-align: right;\">\n",
       "      <th></th>\n",
       "      <th>Transaction ID</th>\n",
       "      <th>Age</th>\n",
       "      <th>Items</th>\n",
       "      <th>Monthly Income</th>\n",
       "      <th>Transaction Time</th>\n",
       "      <th>Record</th>\n",
       "      <th>Gender</th>\n",
       "      <th>City Tier</th>\n",
       "      <th>Total Spend</th>\n",
       "      <th>Gender_Female</th>\n",
       "      <th>Gender_Male</th>\n",
       "      <th>City_Tier 1</th>\n",
       "      <th>City_Tier 2</th>\n",
       "      <th>City_Tier 3</th>\n",
       "      <th>prediction</th>\n",
       "    </tr>\n",
       "  </thead>\n",
       "  <tbody>\n",
       "    <tr>\n",
       "      <th>0</th>\n",
       "      <td>TXN001</td>\n",
       "      <td>42</td>\n",
       "      <td>10</td>\n",
       "      <td>7313</td>\n",
       "      <td>627.668127</td>\n",
       "      <td>5</td>\n",
       "      <td>Female</td>\n",
       "      <td>Tier 1</td>\n",
       "      <td>4198.385084</td>\n",
       "      <td>1</td>\n",
       "      <td>0</td>\n",
       "      <td>1</td>\n",
       "      <td>0</td>\n",
       "      <td>0</td>\n",
       "      <td>4903.696720</td>\n",
       "    </tr>\n",
       "    <tr>\n",
       "      <th>1</th>\n",
       "      <td>TXN002</td>\n",
       "      <td>24</td>\n",
       "      <td>8</td>\n",
       "      <td>17747</td>\n",
       "      <td>126.904567</td>\n",
       "      <td>3</td>\n",
       "      <td>Female</td>\n",
       "      <td>Tier 2</td>\n",
       "      <td>4134.976648</td>\n",
       "      <td>1</td>\n",
       "      <td>0</td>\n",
       "      <td>0</td>\n",
       "      <td>1</td>\n",
       "      <td>0</td>\n",
       "      <td>4799.434826</td>\n",
       "    </tr>\n",
       "    <tr>\n",
       "      <th>2</th>\n",
       "      <td>TXN003</td>\n",
       "      <td>47</td>\n",
       "      <td>11</td>\n",
       "      <td>22845</td>\n",
       "      <td>873.469701</td>\n",
       "      <td>2</td>\n",
       "      <td>Male</td>\n",
       "      <td>Tier 2</td>\n",
       "      <td>5166.614455</td>\n",
       "      <td>0</td>\n",
       "      <td>1</td>\n",
       "      <td>0</td>\n",
       "      <td>1</td>\n",
       "      <td>0</td>\n",
       "      <td>5157.082504</td>\n",
       "    </tr>\n",
       "    <tr>\n",
       "      <th>3</th>\n",
       "      <td>TXN004</td>\n",
       "      <td>50</td>\n",
       "      <td>11</td>\n",
       "      <td>18552</td>\n",
       "      <td>380.219428</td>\n",
       "      <td>7</td>\n",
       "      <td>Female</td>\n",
       "      <td>Tier 1</td>\n",
       "      <td>7784.447676</td>\n",
       "      <td>1</td>\n",
       "      <td>0</td>\n",
       "      <td>1</td>\n",
       "      <td>0</td>\n",
       "      <td>0</td>\n",
       "      <td>8068.012996</td>\n",
       "    </tr>\n",
       "    <tr>\n",
       "      <th>4</th>\n",
       "      <td>TXN005</td>\n",
       "      <td>60</td>\n",
       "      <td>2</td>\n",
       "      <td>14439</td>\n",
       "      <td>403.374223</td>\n",
       "      <td>2</td>\n",
       "      <td>Female</td>\n",
       "      <td>Tier 2</td>\n",
       "      <td>3254.160485</td>\n",
       "      <td>1</td>\n",
       "      <td>0</td>\n",
       "      <td>0</td>\n",
       "      <td>1</td>\n",
       "      <td>0</td>\n",
       "      <td>3581.980335</td>\n",
       "    </tr>\n",
       "  </tbody>\n",
       "</table>\n",
       "</div>"
      ],
      "text/plain": [
       "  Transaction ID  Age    Items   Monthly Income  Transaction Time  Record  \\\n",
       "0         TXN001    42       10            7313        627.668127       5   \n",
       "1         TXN002    24        8           17747        126.904567       3   \n",
       "2         TXN003    47       11           22845        873.469701       2   \n",
       "3         TXN004    50       11           18552        380.219428       7   \n",
       "4         TXN005    60        2           14439        403.374223       2   \n",
       "\n",
       "   Gender City Tier  Total Spend  Gender_Female  Gender_Male  City_Tier 1  \\\n",
       "0  Female    Tier 1  4198.385084              1            0            1   \n",
       "1  Female    Tier 2  4134.976648              1            0            0   \n",
       "2    Male    Tier 2  5166.614455              0            1            0   \n",
       "3  Female    Tier 1  7784.447676              1            0            1   \n",
       "4  Female    Tier 2  3254.160485              1            0            0   \n",
       "\n",
       "   City_Tier 2  City_Tier 3   prediction  \n",
       "0            0            0  4903.696720  \n",
       "1            1            0  4799.434826  \n",
       "2            1            0  5157.082504  \n",
       "3            0            0  8068.012996  \n",
       "4            1            0  3581.980335  "
      ]
     },
     "execution_count": 20,
     "metadata": {},
     "output_type": "execute_result"
    }
   ],
   "source": [
    "df_new.head()"
   ]
  },
  {
   "cell_type": "code",
   "execution_count": 21,
   "metadata": {},
   "outputs": [],
   "source": [
    "SSD = np.sum((df_new[\"prediction\"] - df_new[\"Total Spend\"])**2)"
   ]
  },
  {
   "cell_type": "code",
   "execution_count": 22,
   "metadata": {},
   "outputs": [
    {
     "data": {
      "text/plain": [
       "1517733985.3408163"
      ]
     },
     "execution_count": 22,
     "metadata": {},
     "output_type": "execute_result"
    }
   ],
   "source": [
    "SSD"
   ]
  },
  {
   "cell_type": "code",
   "execution_count": 23,
   "metadata": {},
   "outputs": [],
   "source": [
    "RSE = np.sqrt(SSD/(len(df_new)-len(feature_cols)-1))"
   ]
  },
  {
   "cell_type": "code",
   "execution_count": 24,
   "metadata": {},
   "outputs": [
    {
     "data": {
      "text/plain": [
       "803.1318809818165"
      ]
     },
     "execution_count": 24,
     "metadata": {},
     "output_type": "execute_result"
    }
   ],
   "source": [
    "RSE"
   ]
  },
  {
   "cell_type": "code",
   "execution_count": 25,
   "metadata": {},
   "outputs": [],
   "source": [
    "sales_mean=np.mean(df_new[\"Total Spend\"])"
   ]
  },
  {
   "cell_type": "code",
   "execution_count": 26,
   "metadata": {},
   "outputs": [
    {
     "data": {
      "text/plain": [
       "6163.176415976714"
      ]
     },
     "execution_count": 26,
     "metadata": {},
     "output_type": "execute_result"
    }
   ],
   "source": [
    "sales_mean"
   ]
  },
  {
   "cell_type": "code",
   "execution_count": 27,
   "metadata": {},
   "outputs": [],
   "source": [
    "error = RSE/sales_mean"
   ]
  },
  {
   "cell_type": "code",
   "execution_count": 28,
   "metadata": {},
   "outputs": [
    {
     "data": {
      "text/plain": [
       "13.031135680294161"
      ]
     },
     "execution_count": 28,
     "metadata": {},
     "output_type": "execute_result"
    }
   ],
   "source": [
    "error*100"
   ]
  },
  {
   "cell_type": "markdown",
   "metadata": {},
   "source": [
    "### Otra forma más simple de calcular las predicciones\n",
    "Otra posible forma de hacer el cálculo de las predicciones podría ser en usando la función predict del modelo lineal y añadiendolo como columna adicional al data frame:\n"
   ]
  },
  {
   "cell_type": "code",
   "execution_count": 29,
   "metadata": {},
   "outputs": [
    {
     "data": {
      "text/html": [
       "<div>\n",
       "<style scoped>\n",
       "    .dataframe tbody tr th:only-of-type {\n",
       "        vertical-align: middle;\n",
       "    }\n",
       "\n",
       "    .dataframe tbody tr th {\n",
       "        vertical-align: top;\n",
       "    }\n",
       "\n",
       "    .dataframe thead th {\n",
       "        text-align: right;\n",
       "    }\n",
       "</style>\n",
       "<table border=\"1\" class=\"dataframe\">\n",
       "  <thead>\n",
       "    <tr style=\"text-align: right;\">\n",
       "      <th></th>\n",
       "      <th>Transaction ID</th>\n",
       "      <th>Age</th>\n",
       "      <th>Items</th>\n",
       "      <th>Monthly Income</th>\n",
       "      <th>Transaction Time</th>\n",
       "      <th>Record</th>\n",
       "      <th>Gender</th>\n",
       "      <th>City Tier</th>\n",
       "      <th>Total Spend</th>\n",
       "      <th>Gender_Female</th>\n",
       "      <th>Gender_Male</th>\n",
       "      <th>City_Tier 1</th>\n",
       "      <th>City_Tier 2</th>\n",
       "      <th>City_Tier 3</th>\n",
       "      <th>prediction</th>\n",
       "    </tr>\n",
       "  </thead>\n",
       "  <tbody>\n",
       "    <tr>\n",
       "      <th>0</th>\n",
       "      <td>TXN001</td>\n",
       "      <td>42</td>\n",
       "      <td>10</td>\n",
       "      <td>7313</td>\n",
       "      <td>627.668127</td>\n",
       "      <td>5</td>\n",
       "      <td>Female</td>\n",
       "      <td>Tier 1</td>\n",
       "      <td>4198.385084</td>\n",
       "      <td>1</td>\n",
       "      <td>0</td>\n",
       "      <td>1</td>\n",
       "      <td>0</td>\n",
       "      <td>0</td>\n",
       "      <td>4903.696720</td>\n",
       "    </tr>\n",
       "    <tr>\n",
       "      <th>1</th>\n",
       "      <td>TXN002</td>\n",
       "      <td>24</td>\n",
       "      <td>8</td>\n",
       "      <td>17747</td>\n",
       "      <td>126.904567</td>\n",
       "      <td>3</td>\n",
       "      <td>Female</td>\n",
       "      <td>Tier 2</td>\n",
       "      <td>4134.976648</td>\n",
       "      <td>1</td>\n",
       "      <td>0</td>\n",
       "      <td>0</td>\n",
       "      <td>1</td>\n",
       "      <td>0</td>\n",
       "      <td>4799.434826</td>\n",
       "    </tr>\n",
       "    <tr>\n",
       "      <th>2</th>\n",
       "      <td>TXN003</td>\n",
       "      <td>47</td>\n",
       "      <td>11</td>\n",
       "      <td>22845</td>\n",
       "      <td>873.469701</td>\n",
       "      <td>2</td>\n",
       "      <td>Male</td>\n",
       "      <td>Tier 2</td>\n",
       "      <td>5166.614455</td>\n",
       "      <td>0</td>\n",
       "      <td>1</td>\n",
       "      <td>0</td>\n",
       "      <td>1</td>\n",
       "      <td>0</td>\n",
       "      <td>5157.082504</td>\n",
       "    </tr>\n",
       "    <tr>\n",
       "      <th>3</th>\n",
       "      <td>TXN004</td>\n",
       "      <td>50</td>\n",
       "      <td>11</td>\n",
       "      <td>18552</td>\n",
       "      <td>380.219428</td>\n",
       "      <td>7</td>\n",
       "      <td>Female</td>\n",
       "      <td>Tier 1</td>\n",
       "      <td>7784.447676</td>\n",
       "      <td>1</td>\n",
       "      <td>0</td>\n",
       "      <td>1</td>\n",
       "      <td>0</td>\n",
       "      <td>0</td>\n",
       "      <td>8068.012996</td>\n",
       "    </tr>\n",
       "    <tr>\n",
       "      <th>4</th>\n",
       "      <td>TXN005</td>\n",
       "      <td>60</td>\n",
       "      <td>2</td>\n",
       "      <td>14439</td>\n",
       "      <td>403.374223</td>\n",
       "      <td>2</td>\n",
       "      <td>Female</td>\n",
       "      <td>Tier 2</td>\n",
       "      <td>3254.160485</td>\n",
       "      <td>1</td>\n",
       "      <td>0</td>\n",
       "      <td>0</td>\n",
       "      <td>1</td>\n",
       "      <td>0</td>\n",
       "      <td>3581.980335</td>\n",
       "    </tr>\n",
       "    <tr>\n",
       "      <th>...</th>\n",
       "      <td>...</td>\n",
       "      <td>...</td>\n",
       "      <td>...</td>\n",
       "      <td>...</td>\n",
       "      <td>...</td>\n",
       "      <td>...</td>\n",
       "      <td>...</td>\n",
       "      <td>...</td>\n",
       "      <td>...</td>\n",
       "      <td>...</td>\n",
       "      <td>...</td>\n",
       "      <td>...</td>\n",
       "      <td>...</td>\n",
       "      <td>...</td>\n",
       "      <td>...</td>\n",
       "    </tr>\n",
       "    <tr>\n",
       "      <th>2357</th>\n",
       "      <td>TXN2358</td>\n",
       "      <td>50</td>\n",
       "      <td>7</td>\n",
       "      <td>5705</td>\n",
       "      <td>460.157207</td>\n",
       "      <td>3</td>\n",
       "      <td>Male</td>\n",
       "      <td>Tier 2</td>\n",
       "      <td>2909.619546</td>\n",
       "      <td>0</td>\n",
       "      <td>1</td>\n",
       "      <td>0</td>\n",
       "      <td>1</td>\n",
       "      <td>0</td>\n",
       "      <td>3336.456655</td>\n",
       "    </tr>\n",
       "    <tr>\n",
       "      <th>2358</th>\n",
       "      <td>TXN2359</td>\n",
       "      <td>35</td>\n",
       "      <td>11</td>\n",
       "      <td>11202</td>\n",
       "      <td>851.924751</td>\n",
       "      <td>8</td>\n",
       "      <td>Male</td>\n",
       "      <td>Tier 2</td>\n",
       "      <td>7968.633136</td>\n",
       "      <td>0</td>\n",
       "      <td>1</td>\n",
       "      <td>0</td>\n",
       "      <td>1</td>\n",
       "      <td>0</td>\n",
       "      <td>8069.348522</td>\n",
       "    </tr>\n",
       "    <tr>\n",
       "      <th>2359</th>\n",
       "      <td>TXN2360</td>\n",
       "      <td>27</td>\n",
       "      <td>5</td>\n",
       "      <td>21335</td>\n",
       "      <td>435.145358</td>\n",
       "      <td>8</td>\n",
       "      <td>Female</td>\n",
       "      <td>Tier 3</td>\n",
       "      <td>8816.406448</td>\n",
       "      <td>1</td>\n",
       "      <td>0</td>\n",
       "      <td>0</td>\n",
       "      <td>0</td>\n",
       "      <td>1</td>\n",
       "      <td>9050.690358</td>\n",
       "    </tr>\n",
       "    <tr>\n",
       "      <th>2360</th>\n",
       "      <td>TXN2361</td>\n",
       "      <td>45</td>\n",
       "      <td>12</td>\n",
       "      <td>19294</td>\n",
       "      <td>658.439838</td>\n",
       "      <td>7</td>\n",
       "      <td>Female</td>\n",
       "      <td>Tier 1</td>\n",
       "      <td>7915.595856</td>\n",
       "      <td>1</td>\n",
       "      <td>0</td>\n",
       "      <td>1</td>\n",
       "      <td>0</td>\n",
       "      <td>0</td>\n",
       "      <td>8220.596094</td>\n",
       "    </tr>\n",
       "    <tr>\n",
       "      <th>2361</th>\n",
       "      <td>TXN2362</td>\n",
       "      <td>46</td>\n",
       "      <td>7</td>\n",
       "      <td>2855</td>\n",
       "      <td>560.514341</td>\n",
       "      <td>8</td>\n",
       "      <td>Male</td>\n",
       "      <td>Tier 1</td>\n",
       "      <td>6832.401686</td>\n",
       "      <td>0</td>\n",
       "      <td>1</td>\n",
       "      <td>1</td>\n",
       "      <td>0</td>\n",
       "      <td>0</td>\n",
       "      <td>6814.313090</td>\n",
       "    </tr>\n",
       "  </tbody>\n",
       "</table>\n",
       "<p>2362 rows × 15 columns</p>\n",
       "</div>"
      ],
      "text/plain": [
       "     Transaction ID  Age    Items   Monthly Income  Transaction Time  Record  \\\n",
       "0            TXN001    42       10            7313        627.668127       5   \n",
       "1            TXN002    24        8           17747        126.904567       3   \n",
       "2            TXN003    47       11           22845        873.469701       2   \n",
       "3            TXN004    50       11           18552        380.219428       7   \n",
       "4            TXN005    60        2           14439        403.374223       2   \n",
       "...             ...   ...      ...             ...               ...     ...   \n",
       "2357        TXN2358    50        7            5705        460.157207       3   \n",
       "2358        TXN2359    35       11           11202        851.924751       8   \n",
       "2359        TXN2360    27        5           21335        435.145358       8   \n",
       "2360        TXN2361    45       12           19294        658.439838       7   \n",
       "2361        TXN2362    46        7            2855        560.514341       8   \n",
       "\n",
       "      Gender City Tier  Total Spend  Gender_Female  Gender_Male  City_Tier 1  \\\n",
       "0     Female    Tier 1  4198.385084              1            0            1   \n",
       "1     Female    Tier 2  4134.976648              1            0            0   \n",
       "2       Male    Tier 2  5166.614455              0            1            0   \n",
       "3     Female    Tier 1  7784.447676              1            0            1   \n",
       "4     Female    Tier 2  3254.160485              1            0            0   \n",
       "...      ...       ...          ...            ...          ...          ...   \n",
       "2357    Male    Tier 2  2909.619546              0            1            0   \n",
       "2358    Male    Tier 2  7968.633136              0            1            0   \n",
       "2359  Female    Tier 3  8816.406448              1            0            0   \n",
       "2360  Female    Tier 1  7915.595856              1            0            1   \n",
       "2361    Male    Tier 1  6832.401686              0            1            1   \n",
       "\n",
       "      City_Tier 2  City_Tier 3   prediction  \n",
       "0               0            0  4903.696720  \n",
       "1               1            0  4799.434826  \n",
       "2               1            0  5157.082504  \n",
       "3               0            0  8068.012996  \n",
       "4               1            0  3581.980335  \n",
       "...           ...          ...          ...  \n",
       "2357            1            0  3336.456655  \n",
       "2358            1            0  8069.348522  \n",
       "2359            0            1  9050.690358  \n",
       "2360            0            0  8220.596094  \n",
       "2361            0            0  6814.313090  \n",
       "\n",
       "[2362 rows x 15 columns]"
      ]
     },
     "execution_count": 29,
     "metadata": {},
     "output_type": "execute_result"
    }
   ],
   "source": [
    "df_new[\"prediction\"] = lm.predict(pd.DataFrame(df_new[feature_cols]))\n",
    "df_new"
   ]
  },
  {
   "cell_type": "markdown",
   "metadata": {},
   "source": [
    "# Eliminar variables dummy redundantes"
   ]
  },
  {
   "cell_type": "code",
   "execution_count": 30,
   "metadata": {},
   "outputs": [
    {
     "data": {
      "text/html": [
       "<div>\n",
       "<style scoped>\n",
       "    .dataframe tbody tr th:only-of-type {\n",
       "        vertical-align: middle;\n",
       "    }\n",
       "\n",
       "    .dataframe tbody tr th {\n",
       "        vertical-align: top;\n",
       "    }\n",
       "\n",
       "    .dataframe thead th {\n",
       "        text-align: right;\n",
       "    }\n",
       "</style>\n",
       "<table border=\"1\" class=\"dataframe\">\n",
       "  <thead>\n",
       "    <tr style=\"text-align: right;\">\n",
       "      <th></th>\n",
       "      <th>Gender_Female</th>\n",
       "      <th>Gender_Male</th>\n",
       "    </tr>\n",
       "  </thead>\n",
       "  <tbody>\n",
       "    <tr>\n",
       "      <th>0</th>\n",
       "      <td>1</td>\n",
       "      <td>0</td>\n",
       "    </tr>\n",
       "    <tr>\n",
       "      <th>1</th>\n",
       "      <td>1</td>\n",
       "      <td>0</td>\n",
       "    </tr>\n",
       "    <tr>\n",
       "      <th>2</th>\n",
       "      <td>0</td>\n",
       "      <td>1</td>\n",
       "    </tr>\n",
       "    <tr>\n",
       "      <th>3</th>\n",
       "      <td>1</td>\n",
       "      <td>0</td>\n",
       "    </tr>\n",
       "    <tr>\n",
       "      <th>4</th>\n",
       "      <td>1</td>\n",
       "      <td>0</td>\n",
       "    </tr>\n",
       "  </tbody>\n",
       "</table>\n",
       "</div>"
      ],
      "text/plain": [
       "   Gender_Female  Gender_Male\n",
       "0              1            0\n",
       "1              1            0\n",
       "2              0            1\n",
       "3              1            0\n",
       "4              1            0"
      ]
     },
     "execution_count": 30,
     "metadata": {},
     "output_type": "execute_result"
    }
   ],
   "source": [
    "dummy_gender.head()# dumi original"
   ]
  },
  {
   "cell_type": "code",
   "execution_count": 31,
   "metadata": {},
   "outputs": [
    {
     "data": {
      "text/html": [
       "<div>\n",
       "<style scoped>\n",
       "    .dataframe tbody tr th:only-of-type {\n",
       "        vertical-align: middle;\n",
       "    }\n",
       "\n",
       "    .dataframe tbody tr th {\n",
       "        vertical-align: top;\n",
       "    }\n",
       "\n",
       "    .dataframe thead th {\n",
       "        text-align: right;\n",
       "    }\n",
       "</style>\n",
       "<table border=\"1\" class=\"dataframe\">\n",
       "  <thead>\n",
       "    <tr style=\"text-align: right;\">\n",
       "      <th></th>\n",
       "      <th>Gender_Male</th>\n",
       "    </tr>\n",
       "  </thead>\n",
       "  <tbody>\n",
       "    <tr>\n",
       "      <th>0</th>\n",
       "      <td>0</td>\n",
       "    </tr>\n",
       "    <tr>\n",
       "      <th>1</th>\n",
       "      <td>0</td>\n",
       "    </tr>\n",
       "    <tr>\n",
       "      <th>2</th>\n",
       "      <td>1</td>\n",
       "    </tr>\n",
       "    <tr>\n",
       "      <th>3</th>\n",
       "      <td>0</td>\n",
       "    </tr>\n",
       "    <tr>\n",
       "      <th>4</th>\n",
       "      <td>0</td>\n",
       "    </tr>\n",
       "  </tbody>\n",
       "</table>\n",
       "</div>"
      ],
      "text/plain": [
       "   Gender_Male\n",
       "0            0\n",
       "1            0\n",
       "2            1\n",
       "3            0\n",
       "4            0"
      ]
     },
     "execution_count": 31,
     "metadata": {},
     "output_type": "execute_result"
    }
   ],
   "source": [
    "dummy_gender = pd.get_dummies(df[\"Gender\"], prefix=\"Gender\").iloc[:,1:] #>>>> .iloc[:,1:] toma el ultima columna\n",
    "dummy_gender.head()"
   ]
  },
  {
   "cell_type": "code",
   "execution_count": 32,
   "metadata": {},
   "outputs": [
    {
     "data": {
      "text/html": [
       "<div>\n",
       "<style scoped>\n",
       "    .dataframe tbody tr th:only-of-type {\n",
       "        vertical-align: middle;\n",
       "    }\n",
       "\n",
       "    .dataframe tbody tr th {\n",
       "        vertical-align: top;\n",
       "    }\n",
       "\n",
       "    .dataframe thead th {\n",
       "        text-align: right;\n",
       "    }\n",
       "</style>\n",
       "<table border=\"1\" class=\"dataframe\">\n",
       "  <thead>\n",
       "    <tr style=\"text-align: right;\">\n",
       "      <th></th>\n",
       "      <th>City_Tier 1</th>\n",
       "      <th>City_Tier 2</th>\n",
       "      <th>City_Tier 3</th>\n",
       "    </tr>\n",
       "  </thead>\n",
       "  <tbody>\n",
       "    <tr>\n",
       "      <th>0</th>\n",
       "      <td>1</td>\n",
       "      <td>0</td>\n",
       "      <td>0</td>\n",
       "    </tr>\n",
       "    <tr>\n",
       "      <th>1</th>\n",
       "      <td>0</td>\n",
       "      <td>1</td>\n",
       "      <td>0</td>\n",
       "    </tr>\n",
       "    <tr>\n",
       "      <th>2</th>\n",
       "      <td>0</td>\n",
       "      <td>1</td>\n",
       "      <td>0</td>\n",
       "    </tr>\n",
       "    <tr>\n",
       "      <th>3</th>\n",
       "      <td>1</td>\n",
       "      <td>0</td>\n",
       "      <td>0</td>\n",
       "    </tr>\n",
       "    <tr>\n",
       "      <th>4</th>\n",
       "      <td>0</td>\n",
       "      <td>1</td>\n",
       "      <td>0</td>\n",
       "    </tr>\n",
       "  </tbody>\n",
       "</table>\n",
       "</div>"
      ],
      "text/plain": [
       "   City_Tier 1  City_Tier 2  City_Tier 3\n",
       "0            1            0            0\n",
       "1            0            1            0\n",
       "2            0            1            0\n",
       "3            1            0            0\n",
       "4            0            1            0"
      ]
     },
     "execution_count": 32,
     "metadata": {},
     "output_type": "execute_result"
    }
   ],
   "source": [
    "dummy_city_tier.head()"
   ]
  },
  {
   "cell_type": "code",
   "execution_count": 33,
   "metadata": {},
   "outputs": [
    {
     "data": {
      "text/html": [
       "<div>\n",
       "<style scoped>\n",
       "    .dataframe tbody tr th:only-of-type {\n",
       "        vertical-align: middle;\n",
       "    }\n",
       "\n",
       "    .dataframe tbody tr th {\n",
       "        vertical-align: top;\n",
       "    }\n",
       "\n",
       "    .dataframe thead th {\n",
       "        text-align: right;\n",
       "    }\n",
       "</style>\n",
       "<table border=\"1\" class=\"dataframe\">\n",
       "  <thead>\n",
       "    <tr style=\"text-align: right;\">\n",
       "      <th></th>\n",
       "      <th>City_Tier 2</th>\n",
       "      <th>City_Tier 3</th>\n",
       "    </tr>\n",
       "  </thead>\n",
       "  <tbody>\n",
       "    <tr>\n",
       "      <th>0</th>\n",
       "      <td>0</td>\n",
       "      <td>0</td>\n",
       "    </tr>\n",
       "    <tr>\n",
       "      <th>1</th>\n",
       "      <td>1</td>\n",
       "      <td>0</td>\n",
       "    </tr>\n",
       "    <tr>\n",
       "      <th>2</th>\n",
       "      <td>1</td>\n",
       "      <td>0</td>\n",
       "    </tr>\n",
       "    <tr>\n",
       "      <th>3</th>\n",
       "      <td>0</td>\n",
       "      <td>0</td>\n",
       "    </tr>\n",
       "    <tr>\n",
       "      <th>4</th>\n",
       "      <td>1</td>\n",
       "      <td>0</td>\n",
       "    </tr>\n",
       "  </tbody>\n",
       "</table>\n",
       "</div>"
      ],
      "text/plain": [
       "   City_Tier 2  City_Tier 3\n",
       "0            0            0\n",
       "1            1            0\n",
       "2            1            0\n",
       "3            0            0\n",
       "4            1            0"
      ]
     },
     "execution_count": 33,
     "metadata": {},
     "output_type": "execute_result"
    }
   ],
   "source": [
    "dummy_city_tier = pd.get_dummies(df[\"City Tier\"], prefix=\"City\").iloc[:,1:]# toma las penultimas .iloc[filas(0:n),Column(1:n)]\n",
    "dummy_city_tier.head()"
   ]
  },
  {
   "cell_type": "code",
   "execution_count": 37,
   "metadata": {},
   "outputs": [
    {
     "data": {
      "text/plain": [
       "['Transaction ID',\n",
       " 'Age ',\n",
       " ' Items ',\n",
       " 'Monthly Income',\n",
       " 'Transaction Time',\n",
       " 'Record',\n",
       " 'Gender',\n",
       " 'City Tier',\n",
       " 'Total Spend']"
      ]
     },
     "execution_count": 37,
     "metadata": {},
     "output_type": "execute_result"
    }
   ],
   "source": [
    "column_names = df.columns.values.tolist()\n",
    "column_names"
   ]
  },
  {
   "cell_type": "code",
   "execution_count": 38,
   "metadata": {},
   "outputs": [
    {
     "data": {
      "text/html": [
       "<div>\n",
       "<style scoped>\n",
       "    .dataframe tbody tr th:only-of-type {\n",
       "        vertical-align: middle;\n",
       "    }\n",
       "\n",
       "    .dataframe tbody tr th {\n",
       "        vertical-align: top;\n",
       "    }\n",
       "\n",
       "    .dataframe thead th {\n",
       "        text-align: right;\n",
       "    }\n",
       "</style>\n",
       "<table border=\"1\" class=\"dataframe\">\n",
       "  <thead>\n",
       "    <tr style=\"text-align: right;\">\n",
       "      <th></th>\n",
       "      <th>Transaction ID</th>\n",
       "      <th>Age</th>\n",
       "      <th>Items</th>\n",
       "      <th>Monthly Income</th>\n",
       "      <th>Transaction Time</th>\n",
       "      <th>Record</th>\n",
       "      <th>Gender</th>\n",
       "      <th>City Tier</th>\n",
       "      <th>Total Spend</th>\n",
       "      <th>Gender_Male</th>\n",
       "      <th>City_Tier 2</th>\n",
       "      <th>City_Tier 3</th>\n",
       "    </tr>\n",
       "  </thead>\n",
       "  <tbody>\n",
       "    <tr>\n",
       "      <th>0</th>\n",
       "      <td>TXN001</td>\n",
       "      <td>42</td>\n",
       "      <td>10</td>\n",
       "      <td>7313</td>\n",
       "      <td>627.668127</td>\n",
       "      <td>5</td>\n",
       "      <td>Female</td>\n",
       "      <td>Tier 1</td>\n",
       "      <td>4198.385084</td>\n",
       "      <td>0</td>\n",
       "      <td>0</td>\n",
       "      <td>0</td>\n",
       "    </tr>\n",
       "    <tr>\n",
       "      <th>1</th>\n",
       "      <td>TXN002</td>\n",
       "      <td>24</td>\n",
       "      <td>8</td>\n",
       "      <td>17747</td>\n",
       "      <td>126.904567</td>\n",
       "      <td>3</td>\n",
       "      <td>Female</td>\n",
       "      <td>Tier 2</td>\n",
       "      <td>4134.976648</td>\n",
       "      <td>0</td>\n",
       "      <td>1</td>\n",
       "      <td>0</td>\n",
       "    </tr>\n",
       "    <tr>\n",
       "      <th>2</th>\n",
       "      <td>TXN003</td>\n",
       "      <td>47</td>\n",
       "      <td>11</td>\n",
       "      <td>22845</td>\n",
       "      <td>873.469701</td>\n",
       "      <td>2</td>\n",
       "      <td>Male</td>\n",
       "      <td>Tier 2</td>\n",
       "      <td>5166.614455</td>\n",
       "      <td>1</td>\n",
       "      <td>1</td>\n",
       "      <td>0</td>\n",
       "    </tr>\n",
       "    <tr>\n",
       "      <th>3</th>\n",
       "      <td>TXN004</td>\n",
       "      <td>50</td>\n",
       "      <td>11</td>\n",
       "      <td>18552</td>\n",
       "      <td>380.219428</td>\n",
       "      <td>7</td>\n",
       "      <td>Female</td>\n",
       "      <td>Tier 1</td>\n",
       "      <td>7784.447676</td>\n",
       "      <td>0</td>\n",
       "      <td>0</td>\n",
       "      <td>0</td>\n",
       "    </tr>\n",
       "    <tr>\n",
       "      <th>4</th>\n",
       "      <td>TXN005</td>\n",
       "      <td>60</td>\n",
       "      <td>2</td>\n",
       "      <td>14439</td>\n",
       "      <td>403.374223</td>\n",
       "      <td>2</td>\n",
       "      <td>Female</td>\n",
       "      <td>Tier 2</td>\n",
       "      <td>3254.160485</td>\n",
       "      <td>0</td>\n",
       "      <td>1</td>\n",
       "      <td>0</td>\n",
       "    </tr>\n",
       "  </tbody>\n",
       "</table>\n",
       "</div>"
      ],
      "text/plain": [
       "  Transaction ID  Age    Items   Monthly Income  Transaction Time  Record  \\\n",
       "0         TXN001    42       10            7313        627.668127       5   \n",
       "1         TXN002    24        8           17747        126.904567       3   \n",
       "2         TXN003    47       11           22845        873.469701       2   \n",
       "3         TXN004    50       11           18552        380.219428       7   \n",
       "4         TXN005    60        2           14439        403.374223       2   \n",
       "\n",
       "   Gender City Tier  Total Spend  Gender_Male  City_Tier 2  City_Tier 3  \n",
       "0  Female    Tier 1  4198.385084            0            0            0  \n",
       "1  Female    Tier 2  4134.976648            0            1            0  \n",
       "2    Male    Tier 2  5166.614455            1            1            0  \n",
       "3  Female    Tier 1  7784.447676            0            0            0  \n",
       "4  Female    Tier 2  3254.160485            0            1            0  "
      ]
     },
     "execution_count": 38,
     "metadata": {},
     "output_type": "execute_result"
    }
   ],
   "source": [
    "df_new = df[column_names].join(dummy_gender)\n",
    "column_names = df_new.columns.values.tolist()# vuelvo a tomar las columnas\n",
    "df_new = df_new[column_names].join(dummy_city_tier)\n",
    "df_new.head()"
   ]
  },
  {
   "cell_type": "code",
   "execution_count": 39,
   "metadata": {},
   "outputs": [
    {
     "data": {
      "text/plain": [
       "LinearRegression(copy_X=True, fit_intercept=True, n_jobs=None, normalize=False)"
      ]
     },
     "execution_count": 39,
     "metadata": {},
     "output_type": "execute_result"
    }
   ],
   "source": [
    "feature_cols = [\"Monthly Income\", \"Transaction Time\", \"Gender_Male\", \"City_Tier 2\", \"City_Tier 3\", \"Record\"]\n",
    "X = df_new[feature_cols]# me quedo con la columnas predictoras\n",
    "Y = df_new[\"Total Spend\"] # El valor que quiero predecir\n",
    "lm = LinearRegression()# modelo lineal\n",
    "lm.fit(X,Y)"
   ]
  },
  {
   "cell_type": "code",
   "execution_count": 40,
   "metadata": {},
   "outputs": [
    {
     "name": "stdout",
     "output_type": "stream",
     "text": [
      "-133.67781754642238\n"
     ]
    }
   ],
   "source": [
    "print(lm.intercept_) # el numero del origen "
   ]
  },
  {
   "cell_type": "code",
   "execution_count": 79,
   "metadata": {},
   "outputs": [
    {
     "data": {
      "text/plain": [
       "[('Monthly Income', 0.14753898049205744),\n",
       " ('Transaction Time', 0.15494612549589631),\n",
       " ('Gender_Male', 262.05002651109595),\n",
       " ('City_Tier 2', -21.62535170126296),\n",
       " ('City_Tier 3', -208.66762633022324),\n",
       " ('Record', 772.2334457445635)]"
      ]
     },
     "execution_count": 79,
     "metadata": {},
     "output_type": "execute_result"
    }
   ],
   "source": [
    "list(zip(feature_cols, lm.coef_))# listo los coeficientes"
   ]
  },
  {
   "cell_type": "code",
   "execution_count": 80,
   "metadata": {},
   "outputs": [
    {
     "data": {
      "text/plain": [
       "0.9179923586131016"
      ]
     },
     "execution_count": 80,
     "metadata": {},
     "output_type": "execute_result"
    }
   ],
   "source": [
    "lm.score(X,Y)"
   ]
  },
  {
   "cell_type": "markdown",
   "metadata": {},
   "source": [
    "### Coeficientes con todas las variables en el modelo\n",
    "* ('Monthly Income', 0.14753898049205738),\n",
    "* ('Transaction Time', 0.15494612549589545),\n",
    "* ('Gender_Female', -131.02501325554567),\n",
    "* ('Gender_Male', 131.0250132555456),\n",
    "* ('City_Tier 1', 76.76432601049527),\n",
    "* ('City_Tier 2', 55.138974309232474),\n",
    "* ('City_Tier 3', -131.9033003197278),\n",
    "* ('Record', 772.2334457445648)\n",
    " \n",
    "###  Coeficientes tras enmascarar las variables dummy pertinentes\n",
    "* 'Monthly Income', 0.14753898049205744),\n",
    "* ('Transaction Time', 0.15494612549589631),\n",
    "* ('Gender_Male', 262.05002651109595),\n",
    "* ('City_Tier 2', -21.62535170126296),\n",
    "* ('City_Tier 3', -208.66762633022324),\n",
    "* ('Record', 772.2334457445635)]\n",
    "\n",
    "### Los cambios se reflejan en\n",
    "* Gender_Male: \n",
    "    * antes -> 131.02, \n",
    "    * después -> 262.05 = ( 131.02 - (-131.02))\n",
    "* Gender_Female: \n",
    "    * antes -> -131.02,\n",
    "    * después -> 0\n",
    "* CT1: \n",
    "    * antes -> 76.76,\n",
    "    * después -> 0\n",
    "* CT2: \n",
    "    * antes -> 55.13, \n",
    "    * después -> -21.62 = (55.13 - 76.76)\n",
    "* CT3: \n",
    "    * antes -> -131.90, \n",
    "    * después -> -208.66 = (-131.90 - 76.76)"
   ]
  },
  {
   "cell_type": "markdown",
   "metadata": {},
   "source": [
    "# Transformación de variables para conseguir una relación no lineal"
   ]
  },
  {
   "cell_type": "code",
   "execution_count": 41,
   "metadata": {},
   "outputs": [],
   "source": [
    "import pandas as pd"
   ]
  },
  {
   "cell_type": "code",
   "execution_count": 42,
   "metadata": {},
   "outputs": [
    {
     "data": {
      "text/html": [
       "<div>\n",
       "<style scoped>\n",
       "    .dataframe tbody tr th:only-of-type {\n",
       "        vertical-align: middle;\n",
       "    }\n",
       "\n",
       "    .dataframe tbody tr th {\n",
       "        vertical-align: top;\n",
       "    }\n",
       "\n",
       "    .dataframe thead th {\n",
       "        text-align: right;\n",
       "    }\n",
       "</style>\n",
       "<table border=\"1\" class=\"dataframe\">\n",
       "  <thead>\n",
       "    <tr style=\"text-align: right;\">\n",
       "      <th></th>\n",
       "      <th>mpg</th>\n",
       "      <th>cylinders</th>\n",
       "      <th>displacement</th>\n",
       "      <th>horsepower</th>\n",
       "      <th>weight</th>\n",
       "      <th>acceleration</th>\n",
       "      <th>model year</th>\n",
       "      <th>origin</th>\n",
       "      <th>car name</th>\n",
       "    </tr>\n",
       "  </thead>\n",
       "  <tbody>\n",
       "    <tr>\n",
       "      <th>0</th>\n",
       "      <td>18.0</td>\n",
       "      <td>8</td>\n",
       "      <td>307.0</td>\n",
       "      <td>130.0</td>\n",
       "      <td>3504</td>\n",
       "      <td>12.0</td>\n",
       "      <td>70</td>\n",
       "      <td>1</td>\n",
       "      <td>chevrolet chevelle malibu</td>\n",
       "    </tr>\n",
       "    <tr>\n",
       "      <th>1</th>\n",
       "      <td>15.0</td>\n",
       "      <td>8</td>\n",
       "      <td>350.0</td>\n",
       "      <td>165.0</td>\n",
       "      <td>3693</td>\n",
       "      <td>11.5</td>\n",
       "      <td>70</td>\n",
       "      <td>1</td>\n",
       "      <td>buick skylark 320</td>\n",
       "    </tr>\n",
       "    <tr>\n",
       "      <th>2</th>\n",
       "      <td>18.0</td>\n",
       "      <td>8</td>\n",
       "      <td>318.0</td>\n",
       "      <td>150.0</td>\n",
       "      <td>3436</td>\n",
       "      <td>11.0</td>\n",
       "      <td>70</td>\n",
       "      <td>1</td>\n",
       "      <td>plymouth satellite</td>\n",
       "    </tr>\n",
       "    <tr>\n",
       "      <th>3</th>\n",
       "      <td>16.0</td>\n",
       "      <td>8</td>\n",
       "      <td>304.0</td>\n",
       "      <td>150.0</td>\n",
       "      <td>3433</td>\n",
       "      <td>12.0</td>\n",
       "      <td>70</td>\n",
       "      <td>1</td>\n",
       "      <td>amc rebel sst</td>\n",
       "    </tr>\n",
       "    <tr>\n",
       "      <th>4</th>\n",
       "      <td>17.0</td>\n",
       "      <td>8</td>\n",
       "      <td>302.0</td>\n",
       "      <td>140.0</td>\n",
       "      <td>3449</td>\n",
       "      <td>10.5</td>\n",
       "      <td>70</td>\n",
       "      <td>1</td>\n",
       "      <td>ford torino</td>\n",
       "    </tr>\n",
       "  </tbody>\n",
       "</table>\n",
       "</div>"
      ],
      "text/plain": [
       "    mpg  cylinders  displacement  horsepower  weight  acceleration  \\\n",
       "0  18.0          8         307.0       130.0    3504          12.0   \n",
       "1  15.0          8         350.0       165.0    3693          11.5   \n",
       "2  18.0          8         318.0       150.0    3436          11.0   \n",
       "3  16.0          8         304.0       150.0    3433          12.0   \n",
       "4  17.0          8         302.0       140.0    3449          10.5   \n",
       "\n",
       "   model year  origin                   car name  \n",
       "0          70       1  chevrolet chevelle malibu  \n",
       "1          70       1          buick skylark 320  \n",
       "2          70       1         plymouth satellite  \n",
       "3          70       1              amc rebel sst  \n",
       "4          70       1                ford torino  "
      ]
     },
     "execution_count": 42,
     "metadata": {},
     "output_type": "execute_result"
    }
   ],
   "source": [
    "data_auto = pd.read_csv(\"../datasets/auto/auto-mpg.csv\")# consumo de combustible \n",
    "data_auto.head()"
   ]
  },
  {
   "cell_type": "code",
   "execution_count": 43,
   "metadata": {},
   "outputs": [
    {
     "data": {
      "text/plain": [
       "(406, 9)"
      ]
     },
     "execution_count": 43,
     "metadata": {},
     "output_type": "execute_result"
    }
   ],
   "source": [
    "data_auto.shape"
   ]
  },
  {
   "cell_type": "code",
   "execution_count": 49,
   "metadata": {},
   "outputs": [],
   "source": [
    "import matplotlib.pyplot as plt"
   ]
  },
  {
   "cell_type": "code",
   "execution_count": 50,
   "metadata": {},
   "outputs": [
    {
     "data": {
      "text/plain": [
       "Text(0.5, 1.0, 'CV vs MPG')"
      ]
     },
     "execution_count": 50,
     "metadata": {},
     "output_type": "execute_result"
    },
    {
     "data": {
      "image/png": "[encoded data removed]",
      "text/plain": [
       "<Figure size 432x288 with 1 Axes>"
      ]
     },
     "metadata": {
      "needs_background": "light"
     },
     "output_type": "display_data"
    }
   ],
   "source": [
    "%matplotlib inline\n",
    "data_auto[\"mpg\"] = data_auto[\"mpg\"].dropna()# Elimino NaN\n",
    "data_auto[\"horsepower\"] = data_auto[\"horsepower\"].dropna() # Elimino NaN\n",
    "plt.plot(data_auto[\"horsepower\"], data_auto[\"mpg\"], \"ro\")\n",
    "plt.xlabel(\"Caballos de Potencia\")\n",
    "plt.ylabel(\"Consumo (millas por galeón)\")\n",
    "plt.title(\"CV vs MPG\")"
   ]
  },
  {
   "cell_type": "markdown",
   "metadata": {},
   "source": [
    "### Modelo de regresión lineal\n",
    "* mpg = a + b * horsepower"
   ]
  },
  {
   "cell_type": "code",
   "execution_count": 58,
   "metadata": {},
   "outputs": [],
   "source": [
    "X = data_auto[\"horsepower\"].fillna(data_auto[\"horsepower\"].mean())#REMPLAZA LOS NaN POR EL PROMEDIO\n",
    "Y = data_auto[\"mpg\"].fillna(data_auto[\"mpg\"].mean())#REMPLAZA LOS NaN POR EL PROMEDIO\n",
    "X_data = X[:,np.newaxis]# Como X es un core.series, le  creo una nueva dimension para poder operar y sea numpy.ndarray"
   ]
  },
  {
   "cell_type": "code",
   "execution_count": 59,
   "metadata": {
    "collapsed": true
   },
   "outputs": [
    {
     "name": "stdout",
     "output_type": "stream",
     "text": [
      "X: 0      130.0\n",
      "1      165.0\n",
      "2      150.0\n",
      "3      150.0\n",
      "4      140.0\n",
      "       ...  \n",
      "401     86.0\n",
      "402     52.0\n",
      "403     84.0\n",
      "404     79.0\n",
      "405     82.0\n",
      "Name: horsepower, Length: 406, dtype: float64\n",
      "X_data: [[130.    ]\n",
      " [165.    ]\n",
      " [150.    ]\n",
      " [150.    ]\n",
      " [140.    ]\n",
      " [198.    ]\n",
      " [220.    ]\n",
      " [215.    ]\n",
      " [225.    ]\n",
      " [190.    ]\n",
      " [115.    ]\n",
      " [165.    ]\n",
      " [153.    ]\n",
      " [175.    ]\n",
      " [175.    ]\n",
      " [170.    ]\n",
      " [160.    ]\n",
      " [140.    ]\n",
      " [150.    ]\n",
      " [225.    ]\n",
      " [ 95.    ]\n",
      " [ 95.    ]\n",
      " [ 97.    ]\n",
      " [ 85.    ]\n",
      " [ 88.    ]\n",
      " [ 46.    ]\n",
      " [ 87.    ]\n",
      " [ 90.    ]\n",
      " [ 95.    ]\n",
      " [113.    ]\n",
      " [ 90.    ]\n",
      " [215.    ]\n",
      " [200.    ]\n",
      " [210.    ]\n",
      " [193.    ]\n",
      " [ 88.    ]\n",
      " [ 90.    ]\n",
      " [ 95.    ]\n",
      " [105.0825]\n",
      " [ 48.    ]\n",
      " [100.    ]\n",
      " [105.    ]\n",
      " [100.    ]\n",
      " [ 88.    ]\n",
      " [100.    ]\n",
      " [165.    ]\n",
      " [175.    ]\n",
      " [153.    ]\n",
      " [150.    ]\n",
      " [180.    ]\n",
      " [170.    ]\n",
      " [175.    ]\n",
      " [110.    ]\n",
      " [ 72.    ]\n",
      " [100.    ]\n",
      " [ 88.    ]\n",
      " [ 86.    ]\n",
      " [ 90.    ]\n",
      " [ 70.    ]\n",
      " [ 76.    ]\n",
      " [ 65.    ]\n",
      " [ 69.    ]\n",
      " [ 60.    ]\n",
      " [ 70.    ]\n",
      " [ 95.    ]\n",
      " [ 80.    ]\n",
      " [ 54.    ]\n",
      " [ 90.    ]\n",
      " [ 86.    ]\n",
      " [165.    ]\n",
      " [175.    ]\n",
      " [150.    ]\n",
      " [153.    ]\n",
      " [150.    ]\n",
      " [208.    ]\n",
      " [155.    ]\n",
      " [160.    ]\n",
      " [190.    ]\n",
      " [ 97.    ]\n",
      " [150.    ]\n",
      " [130.    ]\n",
      " [140.    ]\n",
      " [150.    ]\n",
      " [112.    ]\n",
      " [ 76.    ]\n",
      " [ 87.    ]\n",
      " [ 69.    ]\n",
      " [ 86.    ]\n",
      " [ 92.    ]\n",
      " [ 97.    ]\n",
      " [ 80.    ]\n",
      " [ 88.    ]\n",
      " [175.    ]\n",
      " [150.    ]\n",
      " [145.    ]\n",
      " [137.    ]\n",
      " [150.    ]\n",
      " [198.    ]\n",
      " [150.    ]\n",
      " [158.    ]\n",
      " [150.    ]\n",
      " [215.    ]\n",
      " [225.    ]\n",
      " [175.    ]\n",
      " [105.    ]\n",
      " [100.    ]\n",
      " [100.    ]\n",
      " [ 88.    ]\n",
      " [ 95.    ]\n",
      " [ 46.    ]\n",
      " [150.    ]\n",
      " [167.    ]\n",
      " [170.    ]\n",
      " [180.    ]\n",
      " [100.    ]\n",
      " [ 88.    ]\n",
      " [ 72.    ]\n",
      " [ 94.    ]\n",
      " [ 90.    ]\n",
      " [ 85.    ]\n",
      " [107.    ]\n",
      " [ 90.    ]\n",
      " [145.    ]\n",
      " [230.    ]\n",
      " [ 49.    ]\n",
      " [ 75.    ]\n",
      " [ 91.    ]\n",
      " [112.    ]\n",
      " [150.    ]\n",
      " [110.    ]\n",
      " [122.    ]\n",
      " [180.    ]\n",
      " [ 95.    ]\n",
      " [105.0825]\n",
      " [100.    ]\n",
      " [100.    ]\n",
      " [ 67.    ]\n",
      " [ 80.    ]\n",
      " [ 65.    ]\n",
      " [ 75.    ]\n",
      " [100.    ]\n",
      " [110.    ]\n",
      " [105.    ]\n",
      " [140.    ]\n",
      " [150.    ]\n",
      " [150.    ]\n",
      " [140.    ]\n",
      " [150.    ]\n",
      " [ 83.    ]\n",
      " [ 67.    ]\n",
      " [ 78.    ]\n",
      " [ 52.    ]\n",
      " [ 61.    ]\n",
      " [ 75.    ]\n",
      " [ 75.    ]\n",
      " [ 75.    ]\n",
      " [ 97.    ]\n",
      " [ 93.    ]\n",
      " [ 67.    ]\n",
      " [ 95.    ]\n",
      " [105.    ]\n",
      " [ 72.    ]\n",
      " [ 72.    ]\n",
      " [170.    ]\n",
      " [145.    ]\n",
      " [150.    ]\n",
      " [148.    ]\n",
      " [110.    ]\n",
      " [105.    ]\n",
      " [110.    ]\n",
      " [ 95.    ]\n",
      " [110.    ]\n",
      " [110.    ]\n",
      " [129.    ]\n",
      " [ 75.    ]\n",
      " [ 83.    ]\n",
      " [100.    ]\n",
      " [ 78.    ]\n",
      " [ 96.    ]\n",
      " [ 71.    ]\n",
      " [ 97.    ]\n",
      " [ 97.    ]\n",
      " [ 70.    ]\n",
      " [ 90.    ]\n",
      " [ 95.    ]\n",
      " [ 88.    ]\n",
      " [ 98.    ]\n",
      " [115.    ]\n",
      " [ 53.    ]\n",
      " [ 86.    ]\n",
      " [ 81.    ]\n",
      " [ 92.    ]\n",
      " [ 79.    ]\n",
      " [ 83.    ]\n",
      " [140.    ]\n",
      " [150.    ]\n",
      " [120.    ]\n",
      " [152.    ]\n",
      " [100.    ]\n",
      " [105.    ]\n",
      " [ 81.    ]\n",
      " [ 90.    ]\n",
      " [ 52.    ]\n",
      " [ 60.    ]\n",
      " [ 70.    ]\n",
      " [ 53.    ]\n",
      " [100.    ]\n",
      " [ 78.    ]\n",
      " [110.    ]\n",
      " [ 95.    ]\n",
      " [ 71.    ]\n",
      " [ 70.    ]\n",
      " [ 75.    ]\n",
      " [ 72.    ]\n",
      " [102.    ]\n",
      " [150.    ]\n",
      " [ 88.    ]\n",
      " [108.    ]\n",
      " [120.    ]\n",
      " [180.    ]\n",
      " [145.    ]\n",
      " [130.    ]\n",
      " [150.    ]\n",
      " [ 68.    ]\n",
      " [ 80.    ]\n",
      " [ 58.    ]\n",
      " [ 96.    ]\n",
      " [ 70.    ]\n",
      " [145.    ]\n",
      " [110.    ]\n",
      " [145.    ]\n",
      " [130.    ]\n",
      " [110.    ]\n",
      " [105.    ]\n",
      " [100.    ]\n",
      " [ 98.    ]\n",
      " [180.    ]\n",
      " [170.    ]\n",
      " [190.    ]\n",
      " [149.    ]\n",
      " [ 78.    ]\n",
      " [ 88.    ]\n",
      " [ 75.    ]\n",
      " [ 89.    ]\n",
      " [ 63.    ]\n",
      " [ 83.    ]\n",
      " [ 67.    ]\n",
      " [ 78.    ]\n",
      " [ 97.    ]\n",
      " [110.    ]\n",
      " [110.    ]\n",
      " [ 48.    ]\n",
      " [ 66.    ]\n",
      " [ 52.    ]\n",
      " [ 70.    ]\n",
      " [ 60.    ]\n",
      " [110.    ]\n",
      " [140.    ]\n",
      " [139.    ]\n",
      " [105.    ]\n",
      " [ 95.    ]\n",
      " [ 85.    ]\n",
      " [ 88.    ]\n",
      " [100.    ]\n",
      " [ 90.    ]\n",
      " [105.    ]\n",
      " [ 85.    ]\n",
      " [110.    ]\n",
      " [120.    ]\n",
      " [145.    ]\n",
      " [165.    ]\n",
      " [139.    ]\n",
      " [140.    ]\n",
      " [ 68.    ]\n",
      " [ 95.    ]\n",
      " [ 97.    ]\n",
      " [ 75.    ]\n",
      " [ 95.    ]\n",
      " [105.    ]\n",
      " [ 85.    ]\n",
      " [ 97.    ]\n",
      " [103.    ]\n",
      " [125.    ]\n",
      " [115.    ]\n",
      " [133.    ]\n",
      " [ 71.    ]\n",
      " [ 68.    ]\n",
      " [115.    ]\n",
      " [ 85.    ]\n",
      " [ 88.    ]\n",
      " [ 90.    ]\n",
      " [110.    ]\n",
      " [130.    ]\n",
      " [129.    ]\n",
      " [138.    ]\n",
      " [135.    ]\n",
      " [155.    ]\n",
      " [142.    ]\n",
      " [125.    ]\n",
      " [150.    ]\n",
      " [ 71.    ]\n",
      " [ 65.    ]\n",
      " [ 80.    ]\n",
      " [ 80.    ]\n",
      " [ 77.    ]\n",
      " [125.    ]\n",
      " [ 71.    ]\n",
      " [ 90.    ]\n",
      " [ 70.    ]\n",
      " [ 70.    ]\n",
      " [ 65.    ]\n",
      " [ 69.    ]\n",
      " [ 90.    ]\n",
      " [115.    ]\n",
      " [115.    ]\n",
      " [ 90.    ]\n",
      " [ 76.    ]\n",
      " [ 60.    ]\n",
      " [ 70.    ]\n",
      " [ 65.    ]\n",
      " [ 90.    ]\n",
      " [ 88.    ]\n",
      " [ 90.    ]\n",
      " [ 90.    ]\n",
      " [ 78.    ]\n",
      " [ 90.    ]\n",
      " [ 75.    ]\n",
      " [ 92.    ]\n",
      " [ 75.    ]\n",
      " [ 65.    ]\n",
      " [105.    ]\n",
      " [ 65.    ]\n",
      " [ 48.    ]\n",
      " [ 48.    ]\n",
      " [ 67.    ]\n",
      " [ 67.    ]\n",
      " [ 67.    ]\n",
      " [105.0825]\n",
      " [ 67.    ]\n",
      " [ 62.    ]\n",
      " [132.    ]\n",
      " [100.    ]\n",
      " [ 88.    ]\n",
      " [105.0825]\n",
      " [ 72.    ]\n",
      " [ 84.    ]\n",
      " [ 84.    ]\n",
      " [ 92.    ]\n",
      " [110.    ]\n",
      " [ 84.    ]\n",
      " [ 58.    ]\n",
      " [ 64.    ]\n",
      " [ 60.    ]\n",
      " [ 67.    ]\n",
      " [ 65.    ]\n",
      " [ 62.    ]\n",
      " [ 68.    ]\n",
      " [ 63.    ]\n",
      " [ 65.    ]\n",
      " [ 65.    ]\n",
      " [ 74.    ]\n",
      " [105.0825]\n",
      " [ 75.    ]\n",
      " [ 75.    ]\n",
      " [100.    ]\n",
      " [ 74.    ]\n",
      " [ 80.    ]\n",
      " [110.    ]\n",
      " [ 76.    ]\n",
      " [116.    ]\n",
      " [120.    ]\n",
      " [110.    ]\n",
      " [105.    ]\n",
      " [ 88.    ]\n",
      " [ 85.    ]\n",
      " [ 88.    ]\n",
      " [ 88.    ]\n",
      " [ 88.    ]\n",
      " [ 85.    ]\n",
      " [ 84.    ]\n",
      " [ 90.    ]\n",
      " [ 92.    ]\n",
      " [105.0825]\n",
      " [ 74.    ]\n",
      " [ 68.    ]\n",
      " [ 68.    ]\n",
      " [ 63.    ]\n",
      " [ 70.    ]\n",
      " [ 88.    ]\n",
      " [ 75.    ]\n",
      " [ 70.    ]\n",
      " [ 67.    ]\n",
      " [ 67.    ]\n",
      " [ 67.    ]\n",
      " [110.    ]\n",
      " [ 85.    ]\n",
      " [ 92.    ]\n",
      " [112.    ]\n",
      " [ 96.    ]\n",
      " [ 84.    ]\n",
      " [ 90.    ]\n",
      " [ 86.    ]\n",
      " [ 52.    ]\n",
      " [ 84.    ]\n",
      " [ 79.    ]\n",
      " [ 82.    ]]\n"
     ]
    }
   ],
   "source": [
    "print(\"X:\",X)\n",
    "print(\"X_data:\",X_data)"
   ]
  },
  {
   "cell_type": "code",
   "execution_count": 60,
   "metadata": {},
   "outputs": [
    {
     "data": {
      "text/plain": [
       "LinearRegression(copy_X=True, fit_intercept=True, n_jobs=None, normalize=False)"
      ]
     },
     "execution_count": 60,
     "metadata": {},
     "output_type": "execute_result"
    }
   ],
   "source": [
    "lm = LinearRegression() # genero la funcion lineal \n",
    "lm.fit(X_data,Y)"
   ]
  },
  {
   "cell_type": "code",
   "execution_count": 56,
   "metadata": {},
   "outputs": [
    {
     "data": {
      "text/plain": [
       "pandas.core.series.Series"
      ]
     },
     "execution_count": 56,
     "metadata": {},
     "output_type": "execute_result"
    }
   ],
   "source": [
    "type(X)"
   ]
  },
  {
   "cell_type": "code",
   "execution_count": 61,
   "metadata": {},
   "outputs": [
    {
     "data": {
      "text/plain": [
       "numpy.ndarray"
      ]
     },
     "execution_count": 61,
     "metadata": {},
     "output_type": "execute_result"
    }
   ],
   "source": [
    "type(X_data)"
   ]
  },
  {
   "cell_type": "code",
   "execution_count": 62,
   "metadata": {},
   "outputs": [
    {
     "data": {
      "text/plain": [
       "[<matplotlib.lines.Line2D at 0x7fc404ee1810>]"
      ]
     },
     "execution_count": 62,
     "metadata": {},
     "output_type": "execute_result"
    },
    {
     "data": {
      "image/png": "[encoded data removed]",
      "text/plain": [
       "<Figure size 432x288 with 1 Axes>"
      ]
     },
     "metadata": {
      "needs_background": "light"
     },
     "output_type": "display_data"
    }
   ],
   "source": [
    "%matplotlib inline\n",
    "plt.plot(X,Y, \"ro\")\n",
    "plt.plot(X, lm.predict(X_data), color=\"blue\")# pinta en azul la predicion"
   ]
  },
  {
   "cell_type": "code",
   "execution_count": 64,
   "metadata": {},
   "outputs": [
    {
     "data": {
      "text/plain": [
       "0.574653340645025"
      ]
     },
     "execution_count": 64,
     "metadata": {},
     "output_type": "execute_result"
    }
   ],
   "source": [
    "lm.score(X_data, Y) # factor de R^2"
   ]
  },
  {
   "cell_type": "code",
   "execution_count": 102,
   "metadata": {},
   "outputs": [
    {
     "data": {
      "text/plain": [
       "(10315.75196006092, 5.046879480825511, 23.51457286432162, 21.46277336163346)"
      ]
     },
     "execution_count": 102,
     "metadata": {},
     "output_type": "execute_result"
    }
   ],
   "source": [
    "SSD = np.sum((Y - lm.predict(X_data))**2)\n",
    "RSE = np.sqrt(SSD/(len(X_data)-1))\n",
    "y_mean = np.mean(Y)\n",
    "error = RSE/y_mean\n",
    "SSD, RSE, y_mean, error*100\n",
    "# SSD = suma de los cuadrados por las diferencias\n",
    "# RSE = Desviacionr tipica\n",
    "# y_mean = promedio de millas por galon\n",
    "# error = % de error"
   ]
  },
  {
   "cell_type": "markdown",
   "metadata": {},
   "source": [
    "## Modelo de regresión cuadrático\n",
    "* mpg = a + b * horsepower^2 "
   ]
  },
  {
   "cell_type": "code",
   "execution_count": 65,
   "metadata": {},
   "outputs": [],
   "source": [
    "X_data = X**2\n",
    "X_data = X_data[:,np.newaxis]# formateo para creo una nueva dimension para poder operar y sea numpy.ndarray"
   ]
  },
  {
   "cell_type": "code",
   "execution_count": 66,
   "metadata": {},
   "outputs": [
    {
     "data": {
      "text/plain": [
       "LinearRegression(copy_X=True, fit_intercept=True, n_jobs=None, normalize=False)"
      ]
     },
     "execution_count": 66,
     "metadata": {},
     "output_type": "execute_result"
    }
   ],
   "source": [
    "lm = LinearRegression()\n",
    "lm.fit(X_data, Y)"
   ]
  },
  {
   "cell_type": "code",
   "execution_count": 67,
   "metadata": {},
   "outputs": [
    {
     "data": {
      "text/plain": [
       "0.4849887034823205"
      ]
     },
     "execution_count": 67,
     "metadata": {},
     "output_type": "execute_result"
    }
   ],
   "source": [
    "lm.score(X_data, Y)"
   ]
  },
  {
   "cell_type": "code",
   "execution_count": 68,
   "metadata": {},
   "outputs": [
    {
     "data": {
      "text/plain": [
       "(12490.350340501926, 5.553410772769817, 23.51457286432162, 23.6168898529981)"
      ]
     },
     "execution_count": 68,
     "metadata": {},
     "output_type": "execute_result"
    }
   ],
   "source": [
    "SSD = np.sum((Y - lm.predict(X_data))**2)\n",
    "RSE = np.sqrt(SSD/(len(X_data)-1))\n",
    "y_mean = np.mean(Y)\n",
    "error = RSE/y_mean\n",
    "SSD, RSE, y_mean, error*100"
   ]
  },
  {
   "cell_type": "markdown",
   "metadata": {},
   "source": [
    "## Modelo de regresión  lineal y cuadrático\n",
    "* mpg = a + b * horsepower + c * horsepower^2"
   ]
  },
  {
   "cell_type": "code",
   "execution_count": 74,
   "metadata": {},
   "outputs": [],
   "source": [
    "from sklearn.preprocessing import PolynomialFeatures # cargamos librerias para trabajar con polinomios\n",
    "from sklearn import linear_model"
   ]
  },
  {
   "cell_type": "code",
   "execution_count": 75,
   "metadata": {},
   "outputs": [],
   "source": [
    "poly = PolynomialFeatures(degree=2)# usamos una tranformacion polinomial de grado \"2\" = (degree=2)"
   ]
  },
  {
   "cell_type": "code",
   "execution_count": 76,
   "metadata": {},
   "outputs": [],
   "source": [
    "X_data = poly.fit_transform(X[:,np.newaxis])# transformamos a X de forma polinomial y la convertivos en numpy.ndarray"
   ]
  },
  {
   "cell_type": "code",
   "execution_count": 77,
   "metadata": {},
   "outputs": [
    {
     "data": {
      "text/plain": [
       "LinearRegression(copy_X=True, fit_intercept=True, n_jobs=None, normalize=False)"
      ]
     },
     "execution_count": 77,
     "metadata": {},
     "output_type": "execute_result"
    }
   ],
   "source": [
    "lm = linear_model.LinearRegression() # de sklearn tomamos la ecuacion lineal + polinomica\n",
    "lm.fit(X_data, Y)"
   ]
  },
  {
   "cell_type": "code",
   "execution_count": 78,
   "metadata": {},
   "outputs": [
    {
     "data": {
      "text/plain": [
       "0.6439066584257469"
      ]
     },
     "execution_count": 78,
     "metadata": {},
     "output_type": "execute_result"
    }
   ],
   "source": [
    "lm.score(X_data, Y)# Nos aumenta el factor R^2 significativamente"
   ]
  },
  {
   "cell_type": "code",
   "execution_count": 81,
   "metadata": {},
   "outputs": [
    {
     "data": {
      "text/plain": [
       "55.02619244708123"
      ]
     },
     "execution_count": 81,
     "metadata": {},
     "output_type": "execute_result"
    }
   ],
   "source": [
    "lm.intercept_"
   ]
  },
  {
   "cell_type": "code",
   "execution_count": 82,
   "metadata": {},
   "outputs": [
    {
     "data": {
      "text/plain": [
       "array([ 0.        , -0.43404318,  0.00112615])"
      ]
     },
     "execution_count": 82,
     "metadata": {},
     "output_type": "execute_result"
    }
   ],
   "source": [
    "lm.coef_"
   ]
  },
  {
   "cell_type": "markdown",
   "metadata": {},
   "source": [
    "### Modelo resultante\n",
    "#### mpg = 55.026 - 0.434 * hp + 0.00112615 * hp^2"
   ]
  },
  {
   "cell_type": "code",
   "execution_count": 86,
   "metadata": {},
   "outputs": [
    {
     "name": "stdout",
     "output_type": "stream",
     "text": [
      "Regresión de grado 2\n",
      "R2:0.6439066584257469\n",
      "55.02619244708123\n",
      "[ 0.         -0.43404318  0.00112615]\n",
      "SSD: 8636.180643524502, RSE: 4.61778115803654, Y_mean: 23.51457286432162, error: 19.63795466190689%\n",
      "Regresión de grado 3\n",
      "R2:0.6444678885560742\n",
      "58.448774111672364\n",
      "[ 0.00000000e+00 -5.27113167e-01  1.89736722e-03 -1.95723195e-06]\n",
      "SSD: 8622.569367428552, RSE: 4.614140736300908, Y_mean: 23.51457286432162, error: 19.622473106036676%\n",
      "Regresión de grado 4\n",
      "R2:0.6467674189704503\n",
      "40.09664386273736\n",
      "[ 0.00000000e+00  1.62563541e-01 -7.10892744e-03  4.65580255e-05\n",
      " -9.15840093e-08]\n",
      "SSD: 8566.79983249135, RSE: 4.599194731579757, Y_mean: 23.51457286432162, error: 19.558912501268775%\n",
      "Regresión de grado 5\n",
      "R2:0.6547512491826567\n",
      "-40.69399205479398\n",
      "[ 0.00000000e+00  4.00021890e+00 -7.54802463e-02  6.19621638e-04\n",
      " -2.36220983e-06  3.41983064e-09]\n",
      "SSD: 8373.171387671173, RSE: 4.546921733822683, Y_mean: 23.51457286432162, error: 19.336612066305793%\n",
      "Regresión de grado 6\n",
      "R2:0.6572723767672353\n",
      "-156.96985401640967\n",
      "[ 0.00000000e+00  1.07601567e+01 -2.30132553e-01  2.40565208e-03\n",
      " -1.33791146e-05  3.79771236e-08 -4.32542890e-11]\n",
      "SSD: 8312.027550638057, RSE: 4.530289705569641, Y_mean: 23.51457286432162, error: 19.265881339666578%\n",
      "Regresión de grado 7\n",
      "R2:0.6538575072061068\n",
      "14.78494600417217\n",
      "[ 0.00000000e+00  1.31369874e-03  4.31456955e-02 -1.25390737e-03\n",
      "  1.46288814e-05 -8.50437745e-08  2.45087428e-10 -2.79302623e-13]\n",
      "SSD: 8394.846932414757, RSE: 4.552803215281051, Y_mean: 23.51457286432162, error: 19.361624136447592%\n",
      "Regresión de grado 8\n",
      "R2:0.6512432177587246\n",
      "36.406744832940646\n",
      "[ 0.00000000e+00  1.62857711e-07  3.03202162e-06  8.84870629e-05\n",
      " -3.97062283e-06  5.47387186e-08 -3.43821849e-10  1.02688169e-12\n",
      " -1.18560099e-15]\n",
      "SSD: 8458.250184557131, RSE: 4.569963715056301, Y_mean: 23.51457286432162, error: 19.43460228439978%\n",
      "Regresión de grado 9\n",
      "R2:0.6510536164077827\n",
      "39.46384093793641\n",
      "[ 0.00000000e+00  2.96600468e-08 -1.31116579e-09 -6.48222380e-08\n",
      " -1.77070678e-06  3.55391839e-08 -3.00072575e-10  1.32188142e-12\n",
      " -3.03801990e-15  2.92180706e-18]\n",
      "SSD: 8462.848505631464, RSE: 4.571205774861494, Y_mean: 23.51457286432162, error: 19.43988436973622%\n",
      "Regresión de grado 10\n",
      "R2:0.6523569975856041\n",
      "38.44296174730094\n",
      "[ 0.00000000e+00 -8.91906448e-10 -7.66530280e-13 -2.72221136e-11\n",
      " -1.29904249e-09 -3.51786115e-08  8.70655852e-10 -8.87303697e-12\n",
      "  4.60555310e-14 -1.20912891e-16  1.27851931e-19]\n",
      "SSD: 8431.238155240546, RSE: 4.562660626021648, Y_mean: 23.51457286432162, error: 19.403544569353066%\n"
     ]
    }
   ],
   "source": [
    "for d in range(2,11):\n",
    "    poly = PolynomialFeatures(degree=d)\n",
    "    X_data = poly.fit_transform(X[:,np.newaxis])\n",
    "    lm = linear_model.LinearRegression()\n",
    "    lm.fit(X_data, Y)\n",
    "    print(\"Regresión de grado \"+str(d))\n",
    "    print(\"R2:\" +str(lm.score(X_data, Y)))\n",
    "    print(lm.intercept_)\n",
    "    print(lm.coef_)\n",
    "    regresion_validation(X_data, Y, lm.predict(X_data))"
   ]
  },
  {
   "cell_type": "code",
   "execution_count": 88,
   "metadata": {},
   "outputs": [],
   "source": [
    "def regresion_validation(X_data, Y, Y_pred):\n",
    "    SSD = np.sum((Y - Y_pred)**2)\n",
    "    RSE = np.sqrt(SSD/(len(X_data)-1))\n",
    "    y_mean = np.mean(Y)\n",
    "    error = RSE/y_mean\n",
    "    print(\"SSD: \"+str(SSD)+\", RSE: \" +str(RSE) + \", Y_mean: \" +str(y_mean) +\", error: \" + str(error*100)+ \"%\")"
   ]
  },
  {
   "cell_type": "code",
   "execution_count": 90,
   "metadata": {},
   "outputs": [],
   "source": [
    "#print(regresion_validation(lm, X_data, Y))"
   ]
  },
  {
   "cell_type": "markdown",
   "metadata": {},
   "source": [
    "# El problema de los outliers"
   ]
  },
  {
   "cell_type": "code",
   "execution_count": 92,
   "metadata": {},
   "outputs": [
    {
     "data": {
      "text/plain": [
       "[<matplotlib.lines.Line2D at 0x7fc404d49f90>]"
      ]
     },
     "execution_count": 92,
     "metadata": {},
     "output_type": "execute_result"
    },
    {
     "data": {
      "image/png": "[encoded data removed]",
      "text/plain": [
       "<Figure size 432x288 with 1 Axes>"
      ]
     },
     "metadata": {
      "needs_background": "light"
     },
     "output_type": "display_data"
    }
   ],
   "source": [
    "plt.plot(data_auto[\"displacement\"], data_auto[\"mpg\"], \"ro\")"
   ]
  },
  {
   "cell_type": "code",
   "execution_count": 93,
   "metadata": {},
   "outputs": [
    {
     "data": {
      "text/plain": [
       "LinearRegression(copy_X=True, fit_intercept=True, n_jobs=None, normalize=False)"
      ]
     },
     "execution_count": 93,
     "metadata": {},
     "output_type": "execute_result"
    }
   ],
   "source": [
    "X = data_auto[\"displacement\"].fillna(data_auto[\"displacement\"].mean())# remplazo los nan por el promedio\n",
    "X = X[:,np.newaxis]\n",
    "Y = data_auto[\"mpg\"].fillna(data_auto[\"mpg\"].mean())# remplazo los nan por el promedio\n",
    "\n",
    "lm = LinearRegression() \n",
    "lm.fit(X, Y)"
   ]
  },
  {
   "cell_type": "code",
   "execution_count": 95,
   "metadata": {},
   "outputs": [
    {
     "data": {
      "text/plain": [
       "0.6261049762826918"
      ]
     },
     "execution_count": 95,
     "metadata": {},
     "output_type": "execute_result"
    }
   ],
   "source": [
    "lm.score(X,Y) # factor"
   ]
  },
  {
   "cell_type": "code",
   "execution_count": 150,
   "metadata": {},
   "outputs": [
    {
     "data": {
      "text/plain": [
       "[<matplotlib.lines.Line2D at 0x1a1e713080>]"
      ]
     },
     "execution_count": 150,
     "metadata": {},
     "output_type": "execute_result"
    },
    {
     "data": {
      "image/png": "[encoded data removed]",
      "text/plain": [
       "<matplotlib.figure.Figure at 0x1a2090bdd8>"
      ]
     },
     "metadata": {},
     "output_type": "display_data"
    }
   ],
   "source": [
    "%matplotlib inline\n",
    "plt.plot(X,Y, \"ro\")\n",
    "plt.plot(X, lm.predict(X), color=\"blue\")"
   ]
  },
  {
   "cell_type": "markdown",
   "metadata": {},
   "source": [
    "### Filtrar para encontrar outliers"
   ]
  },
  {
   "cell_type": "code",
   "execution_count": 96,
   "metadata": {},
   "outputs": [
    {
     "data": {
      "text/html": [
       "<div>\n",
       "<style scoped>\n",
       "    .dataframe tbody tr th:only-of-type {\n",
       "        vertical-align: middle;\n",
       "    }\n",
       "\n",
       "    .dataframe tbody tr th {\n",
       "        vertical-align: top;\n",
       "    }\n",
       "\n",
       "    .dataframe thead th {\n",
       "        text-align: right;\n",
       "    }\n",
       "</style>\n",
       "<table border=\"1\" class=\"dataframe\">\n",
       "  <thead>\n",
       "    <tr style=\"text-align: right;\">\n",
       "      <th></th>\n",
       "      <th>mpg</th>\n",
       "      <th>cylinders</th>\n",
       "      <th>displacement</th>\n",
       "      <th>horsepower</th>\n",
       "      <th>weight</th>\n",
       "      <th>acceleration</th>\n",
       "      <th>model year</th>\n",
       "      <th>origin</th>\n",
       "      <th>car name</th>\n",
       "    </tr>\n",
       "  </thead>\n",
       "  <tbody>\n",
       "    <tr>\n",
       "      <th>395</th>\n",
       "      <td>38.0</td>\n",
       "      <td>6</td>\n",
       "      <td>262.0</td>\n",
       "      <td>85.0</td>\n",
       "      <td>3015</td>\n",
       "      <td>17.0</td>\n",
       "      <td>82</td>\n",
       "      <td>1</td>\n",
       "      <td>oldsmobile cutlass ciera (diesel)</td>\n",
       "    </tr>\n",
       "  </tbody>\n",
       "</table>\n",
       "</div>"
      ],
      "text/plain": [
       "      mpg  cylinders  displacement  horsepower  weight  acceleration  \\\n",
       "395  38.0          6         262.0        85.0    3015          17.0   \n",
       "\n",
       "     model year  origin                           car name  \n",
       "395          82       1  oldsmobile cutlass ciera (diesel)  "
      ]
     },
     "execution_count": 96,
     "metadata": {},
     "output_type": "execute_result"
    }
   ],
   "source": [
    "data_auto[(data_auto[\"displacement\"]>250) & (data_auto[\"mpg\"]>35)]"
   ]
  },
  {
   "cell_type": "code",
   "execution_count": 97,
   "metadata": {},
   "outputs": [
    {
     "data": {
      "text/html": [
       "<div>\n",
       "<style scoped>\n",
       "    .dataframe tbody tr th:only-of-type {\n",
       "        vertical-align: middle;\n",
       "    }\n",
       "\n",
       "    .dataframe tbody tr th {\n",
       "        vertical-align: top;\n",
       "    }\n",
       "\n",
       "    .dataframe thead th {\n",
       "        text-align: right;\n",
       "    }\n",
       "</style>\n",
       "<table border=\"1\" class=\"dataframe\">\n",
       "  <thead>\n",
       "    <tr style=\"text-align: right;\">\n",
       "      <th></th>\n",
       "      <th>mpg</th>\n",
       "      <th>cylinders</th>\n",
       "      <th>displacement</th>\n",
       "      <th>horsepower</th>\n",
       "      <th>weight</th>\n",
       "      <th>acceleration</th>\n",
       "      <th>model year</th>\n",
       "      <th>origin</th>\n",
       "      <th>car name</th>\n",
       "    </tr>\n",
       "  </thead>\n",
       "  <tbody>\n",
       "    <tr>\n",
       "      <th>258</th>\n",
       "      <td>20.2</td>\n",
       "      <td>8</td>\n",
       "      <td>302.0</td>\n",
       "      <td>139.0</td>\n",
       "      <td>3570</td>\n",
       "      <td>12.8</td>\n",
       "      <td>78</td>\n",
       "      <td>1</td>\n",
       "      <td>mercury monarch ghia</td>\n",
       "    </tr>\n",
       "    <tr>\n",
       "      <th>305</th>\n",
       "      <td>23.0</td>\n",
       "      <td>8</td>\n",
       "      <td>350.0</td>\n",
       "      <td>125.0</td>\n",
       "      <td>3900</td>\n",
       "      <td>17.4</td>\n",
       "      <td>79</td>\n",
       "      <td>1</td>\n",
       "      <td>cadillac eldorado</td>\n",
       "    </tr>\n",
       "    <tr>\n",
       "      <th>372</th>\n",
       "      <td>26.6</td>\n",
       "      <td>8</td>\n",
       "      <td>350.0</td>\n",
       "      <td>105.0</td>\n",
       "      <td>3725</td>\n",
       "      <td>19.0</td>\n",
       "      <td>81</td>\n",
       "      <td>1</td>\n",
       "      <td>oldsmobile cutlass ls</td>\n",
       "    </tr>\n",
       "  </tbody>\n",
       "</table>\n",
       "</div>"
      ],
      "text/plain": [
       "      mpg  cylinders  displacement  horsepower  weight  acceleration  \\\n",
       "258  20.2          8         302.0       139.0    3570          12.8   \n",
       "305  23.0          8         350.0       125.0    3900          17.4   \n",
       "372  26.6          8         350.0       105.0    3725          19.0   \n",
       "\n",
       "     model year  origin               car name  \n",
       "258          78       1   mercury monarch ghia  \n",
       "305          79       1      cadillac eldorado  \n",
       "372          81       1  oldsmobile cutlass ls  "
      ]
     },
     "execution_count": 97,
     "metadata": {},
     "output_type": "execute_result"
    }
   ],
   "source": [
    "data_auto[(data_auto[\"displacement\"] > 300) & (data_auto[\"mpg\"] > 20)]"
   ]
  },
  {
   "cell_type": "markdown",
   "metadata": {},
   "source": [
    "### Borrar las filas puntuales "
   ]
  },
  {
   "cell_type": "code",
   "execution_count": 98,
   "metadata": {},
   "outputs": [],
   "source": [
    "data_auto_clean = data_auto.drop([395, 258, 305, 372]) # borro filas"
   ]
  },
  {
   "cell_type": "code",
   "execution_count": 99,
   "metadata": {},
   "outputs": [
    {
     "data": {
      "text/plain": [
       "LinearRegression(copy_X=True, fit_intercept=True, n_jobs=None, normalize=False)"
      ]
     },
     "execution_count": 99,
     "metadata": {},
     "output_type": "execute_result"
    }
   ],
   "source": [
    "X = data_auto_clean[\"displacement\"].fillna(data_auto_clean[\"displacement\"].mean())\n",
    "X = X[:,np.newaxis]\n",
    "Y = data_auto_clean[\"mpg\"].fillna(data_auto_clean[\"mpg\"].mean())\n",
    "\n",
    "lm = LinearRegression()\n",
    "lm.fit(X, Y)"
   ]
  },
  {
   "cell_type": "code",
   "execution_count": 100,
   "metadata": {},
   "outputs": [
    {
     "data": {
      "text/plain": [
       "0.6466514317531822"
      ]
     },
     "execution_count": 100,
     "metadata": {},
     "output_type": "execute_result"
    }
   ],
   "source": [
    "lm.score(X,Y)# mejora un poquito"
   ]
  },
  {
   "cell_type": "code",
   "execution_count": 101,
   "metadata": {},
   "outputs": [
    {
     "data": {
      "text/plain": [
       "[<matplotlib.lines.Line2D at 0x7fc404d07190>]"
      ]
     },
     "execution_count": 101,
     "metadata": {},
     "output_type": "execute_result"
    },
    {
     "data": {
      "image/png": "[encoded data removed]",
      "text/plain": [
       "<Figure size 432x288 with 1 Axes>"
      ]
     },
     "metadata": {
      "needs_background": "light"
     },
     "output_type": "display_data"
    }
   ],
   "source": [
    "%matplotlib inline\n",
    "plt.plot(X,Y, \"ro\")\n",
    "plt.plot(X, lm.predict(X), color=\"blue\")"
   ]
  },
  {
   "cell_type": "code",
   "execution_count": null,
   "metadata": {},
   "outputs": [],
   "source": []
  }
 ],
 "metadata": {
  "kernelspec": {
   "display_name": "Python 3",
   "language": "python",
   "name": "python3"
  },
  "language_info": {
   "codemirror_mode": {
    "name": "ipython",
    "version": 3
   },
   "file_extension": ".py",
   "mimetype": "text/x-python",
   "name": "python",
   "nbconvert_exporter": "python",
   "pygments_lexer": "ipython3",
   "version": "3.7.4"
  }
 },
 "nbformat": 4,
 "nbformat_minor": 2
}
