{
  "nbformat": 4,
  "nbformat_minor": 0,
  "metadata": {
    "kernelspec": {
      "display_name": "Python 3",
      "language": "python",
      "name": "python3"
    },
    "language_info": {
      "codemirror_mode": {
        "name": "ipython",
        "version": 3
      },
      "file_extension": ".py",
      "mimetype": "text/x-python",
      "name": "python",
      "nbconvert_exporter": "python",
      "pygments_lexer": "ipython3",
      "version": "3.6.4"
    },
    "colab": {
      "name": "T11 - 3 - Reconocimiento de texto escrito.ipynb",
      "provenance": [],
      "include_colab_link": true
    }
  },
  "cells": [
    {
      "cell_type": "markdown",
      "metadata": {
        "id": "view-in-github",
        "colab_type": "text"
      },
      "source": [
        "<a href=\"https://colab.research.google.com/github/INFINITY-RUBER/Curso_Machine_Learning_Data_Science_Python/blob/master/notebooks/T11%20-%203%20-%20Reconocimiento%20de%20texto%20escrito.ipynb\" target=\"_parent\"><img src=\"https://colab.research.google.com/assets/colab-badge.svg\" alt=\"Open In Colab\"/></a>"
      ]
    },
    {
      "cell_type": "markdown",
      "metadata": {
        "id": "Osikt7oHjirP",
        "colab_type": "text"
      },
      "source": [
        "# El dataset de MNIST"
      ]
    },
    {
      "cell_type": "code",
      "metadata": {
        "id": "K5TEipwYkDD-",
        "colab_type": "code",
        "colab": {}
      },
      "source": [
        "!pip install tensorflow==1.2"
      ],
      "execution_count": 0,
      "outputs": []
    },
    {
      "cell_type": "code",
      "metadata": {
        "id": "_lBtuabapLlj",
        "colab_type": "code",
        "colab": {
          "base_uri": "https://localhost:8080/",
          "height": 34
        },
        "outputId": "8413766b-5033-4225-c71e-463cfbb59146"
      },
      "source": [
        "import tensorflow as tf\n",
        "print(tf.__version__)"
      ],
      "execution_count": 2,
      "outputs": [
        {
          "output_type": "stream",
          "text": [
            "1.2.0\n"
          ],
          "name": "stdout"
        }
      ]
    },
    {
      "cell_type": "code",
      "metadata": {
        "id": "VUmrGu4GjirS",
        "colab_type": "code",
        "colab": {}
      },
      "source": [
        "import tensorflow as tf\n",
        "from tensorflow.examples.tutorials.mnist import input_data\n",
        "# import tensorflow_datasets as tfds\n",
        "# Construct a tf.data.Dataset\n",
        "# dataset = tfds.load(name=\"mnist\", split=tfds.Split.TRAIN)"
      ],
      "execution_count": 0,
      "outputs": []
    },
    {
      "cell_type": "code",
      "metadata": {
        "id": "NscySz-qjirc",
        "colab_type": "code",
        "colab": {
          "base_uri": "https://localhost:8080/",
          "height": 151
        },
        "outputId": "a1acc628-f16e-4df4-9ce4-827506a3ef1e"
      },
      "source": [
        "mnist = input_data.read_data_sets(\"MNIST_data\", one_hot = True) # \"one_hot = True\" coloca un ceros y true en el dato"
      ],
      "execution_count": 4,
      "outputs": [
        {
          "output_type": "stream",
          "text": [
            "Successfully downloaded train-images-idx3-ubyte.gz 9912422 bytes.\n",
            "Extracting MNIST_data/train-images-idx3-ubyte.gz\n",
            "Successfully downloaded train-labels-idx1-ubyte.gz 28881 bytes.\n",
            "Extracting MNIST_data/train-labels-idx1-ubyte.gz\n",
            "Successfully downloaded t10k-images-idx3-ubyte.gz 1648877 bytes.\n",
            "Extracting MNIST_data/t10k-images-idx3-ubyte.gz\n",
            "Successfully downloaded t10k-labels-idx1-ubyte.gz 4542 bytes.\n",
            "Extracting MNIST_data/t10k-labels-idx1-ubyte.gz\n"
          ],
          "name": "stdout"
        }
      ]
    },
    {
      "cell_type": "code",
      "metadata": {
        "id": "qD3r0FH6jirm",
        "colab_type": "code",
        "colab": {
          "base_uri": "https://localhost:8080/",
          "height": 34
        },
        "outputId": "a74ab455-ccdf-48e4-b7ab-6f94694d7c1f"
      },
      "source": [
        "len(mnist.train.images)"
      ],
      "execution_count": 6,
      "outputs": [
        {
          "output_type": "execute_result",
          "data": {
            "text/plain": [
              "55000"
            ]
          },
          "metadata": {
            "tags": []
          },
          "execution_count": 6
        }
      ]
    },
    {
      "cell_type": "markdown",
      "metadata": {
        "id": "J6v3tXU_6Ig1",
        "colab_type": "text"
      },
      "source": [
        ""
      ]
    },
    {
      "cell_type": "code",
      "metadata": {
        "id": "b7FBKPeMjiru",
        "colab_type": "code",
        "colab": {
          "base_uri": "https://localhost:8080/",
          "height": 34
        },
        "outputId": "1774e8dd-0310-4666-b730-9fa7cf5b0c06"
      },
      "source": [
        "len(mnist.test.images)"
      ],
      "execution_count": 5,
      "outputs": [
        {
          "output_type": "execute_result",
          "data": {
            "text/plain": [
              "10000"
            ]
          },
          "metadata": {
            "tags": []
          },
          "execution_count": 5
        }
      ]
    },
    {
      "cell_type": "code",
      "metadata": {
        "id": "8jTdgXnEjir4",
        "colab_type": "code",
        "colab": {}
      },
      "source": [
        "im_temp = mnist.train.images[0]# imagen temporal\n",
        "im_temp"
      ],
      "execution_count": 0,
      "outputs": []
    },
    {
      "cell_type": "code",
      "metadata": {
        "id": "JddcjEgljisK",
        "colab_type": "code",
        "colab": {}
      },
      "source": [
        "from skimage import io\n",
        "import numpy as np"
      ],
      "execution_count": 0,
      "outputs": []
    },
    {
      "cell_type": "code",
      "metadata": {
        "id": "6FdrE4x4jisS",
        "colab_type": "code",
        "colab": {
          "base_uri": "https://localhost:8080/",
          "height": 314
        },
        "outputId": "812f87e9-bbae-40b8-d077-0863657855dc"
      },
      "source": [
        "io.imshow(np.reshape(im_temp, (28,28)))\n",
        "# redimenciona im_temp en un tamaño de 28x28"
      ],
      "execution_count": 15,
      "outputs": [
        {
          "output_type": "execute_result",
          "data": {
            "text/plain": [
              "<matplotlib.image.AxesImage at 0x7fea9e1b8588>"
            ]
          },
          "metadata": {
            "tags": []
          },
          "execution_count": 15
        },
        {
          "output_type": "display_data",
          "data": {
            "image/png": "[encoded data removed]",
            "text/plain": [
              "<Figure size 432x288 with 1 Axes>"
            ]
          },
          "metadata": {
            "tags": [],
            "needs_background": "light"
          }
        }
      ]
    },
    {
      "cell_type": "code",
      "metadata": {
        "id": "t-1zwviIjisb",
        "colab_type": "code",
        "colab": {
          "base_uri": "https://localhost:8080/",
          "height": 34
        },
        "outputId": "5fdac42f-c656-48f8-ccec-e8cc1d8fbe2b"
      },
      "source": [
        "mnist.train.labels[0] # etiqueta en binario"
      ],
      "execution_count": 29,
      "outputs": [
        {
          "output_type": "execute_result",
          "data": {
            "text/plain": [
              "array([0., 0., 0., 0., 0., 0., 0., 1., 0., 0.])"
            ]
          },
          "metadata": {
            "tags": []
          },
          "execution_count": 29
        }
      ]
    },
    {
      "cell_type": "markdown",
      "metadata": {
        "id": "qN2lv-1njish",
        "colab_type": "text"
      },
      "source": [
        "# Una red neuronal con Tensor Flow - v1\n",
        "* Las imágenes de entrenamiento de MNIST viven en un espacio vectorial de dimensión 784.\n",
        "* El dataset se puede pensar como 55000 filas y 784 columnas.\n",
        "* Cada dato del datset es un número real entre 0 y 1. que indica la cantida de color \n",
        "\n",
        "y = softmax(W * x + b)"
      ]
    },
    {
      "cell_type": "code",
      "metadata": {
        "id": "Zm06VQTZ9Eqc",
        "colab_type": "code",
        "colab": {}
      },
      "source": [
        "x = tf.placeholder(tf.float32, [None, 784])\n",
        "W = tf.Variable(tf.zeros([784,10])) \n",
        "b = tf.Variable(tf.zeros([10]))"
      ],
      "execution_count": 0,
      "outputs": []
    },
    {
      "cell_type": "code",
      "metadata": {
        "id": "KG1r-tbejisj",
        "colab_type": "code",
        "colab": {}
      },
      "source": [
        "# FORMA DE FUNCION PARAMETRIZADO\n",
        "dim_input = 784\n",
        "n_categories = 10"
      ],
      "execution_count": 0,
      "outputs": []
    },
    {
      "cell_type": "code",
      "metadata": {
        "id": "IZgCtjJPjisp",
        "colab_type": "code",
        "colab": {}
      },
      "source": [
        "x = tf.placeholder(tf.float32, [None, dim_input])\n",
        "# lo que haces es aplanar la imagen en un espacio vectorial de dim_input = 784 dimensiones  "
      ],
      "execution_count": 0,
      "outputs": []
    },
    {
      "cell_type": "code",
      "metadata": {
        "id": "P_-7oi2ljisw",
        "colab_type": "code",
        "colab": {}
      },
      "source": [
        "W = tf.Variable(tf.zeros([dim_input,n_categories])) \n",
        "b = tf.Variable(tf.zeros([n_categories])) #  Desviacion"
      ],
      "execution_count": 0,
      "outputs": []
    },
    {
      "cell_type": "code",
      "metadata": {
        "id": "ipEdRdGRjis3",
        "colab_type": "code",
        "colab": {}
      },
      "source": [
        "softmax_args = tf.matmul(x,W) + b # \"matmul\": MULTIPLICACION DE MATRIZES \n",
        "y_hat = tf.nn.softmax(softmax_args)# \"nn.softmax\": Neurnal newort (softmax: sumara y divira por la clases a los argumentos de softmax)"
      ],
      "execution_count": 0,
      "outputs": []
    },
    {
      "cell_type": "code",
      "metadata": {
        "id": "Nq3pBjRQ95Lu",
        "colab_type": "code",
        "colab": {}
      },
      "source": [
        ""
      ],
      "execution_count": 0,
      "outputs": []
    },
    {
      "cell_type": "markdown",
      "metadata": {
        "id": "qdxIyj2sjis-",
        "colab_type": "text"
      },
      "source": [
        "#### Entrenando la red neuronal\n",
        "* Loss / Cost <- objetivo minimizar las pérdidas"
      ]
    },
    {
      "cell_type": "code",
      "metadata": {
        "id": "pu9jeAvw6U2k",
        "colab_type": "code",
        "colab": {}
      },
      "source": [
        "!pip install IPython"
      ],
      "execution_count": 0,
      "outputs": []
    },
    {
      "cell_type": "code",
      "metadata": {
        "id": "KxVECOPOjis_",
        "colab_type": "code",
        "colab": {}
      },
      "source": [
        "from IPython.display import display, Math, Latex"
      ],
      "execution_count": 0,
      "outputs": []
    },
    {
      "cell_type": "code",
      "metadata": {
        "id": "HKoaJMj4jitH",
        "colab_type": "code",
        "colab": {
          "base_uri": "https://localhost:8080/",
          "height": 34
        },
        "outputId": "edd4fc87-2c1d-491a-c0c1-0a77852a36f4"
      },
      "source": [
        "display(Math(r\"H_{y}(\\hat{y}) = -\\sum_{i} y_i log(\\hat{y_i})\"))\n",
        "\n",
        "# display(Math(\"$$H_{y}(\\hat{y}) = -\\sum_{i} y_i log(\\hat{y_i})$$\"))"
      ],
      "execution_count": 41,
      "outputs": [
        {
          "output_type": "display_data",
          "data": {
            "text/latex": "$$H_{y}(\\hat{y}) = -\\sum_{i} y_i log(\\hat{y_i})$$",
            "text/plain": [
              "<IPython.core.display.Math object>"
            ]
          },
          "metadata": {
            "tags": []
          }
        }
      ]
    },
    {
      "cell_type": "code",
      "metadata": {
        "id": "Vzlel454jitW",
        "colab_type": "code",
        "colab": {}
      },
      "source": [
        "y_ = tf.placeholder(tf.float32, [None, 10])"
      ],
      "execution_count": 0,
      "outputs": []
    },
    {
      "cell_type": "code",
      "metadata": {
        "id": "Tw0MM4DFjitj",
        "colab_type": "code",
        "colab": {}
      },
      "source": [
        "# ENTROPIA CRUZADA DE  DE FORMA MATEMATICAS\n",
        "cross_entropy = tf.reduce_mean(-tf.reduce_sum(y_ * tf.log(y_hat), reduction_indices=[1]))\n",
        "#-tf.reduce_sum: sumara todo los elementos solo de la segunda dimencion \"reduction_indices=[1]\"\n",
        "#reduce_mean: Calculara el promedio de todas todas las muestras del dataset\n",
        "#tf.log(y_hat): ejecucion de logaritmo por Tensor flow a cada uno de los elementos de \"y_hat\" y se multiplica por cada un de \"y_ \""
      ],
      "execution_count": 0,
      "outputs": []
    },
    {
      "cell_type": "code",
      "metadata": {
        "id": "y8y9IWQvjitp",
        "colab_type": "code",
        "colab": {}
      },
      "source": [
        "# HACE LA MISMA OPERACION DE  ENTROPIAS CRUZADA\n",
        "# tf.nn.softmax_cross_entropy_with_logits(softmax_args, y_)"
      ],
      "execution_count": 0,
      "outputs": []
    },
    {
      "cell_type": "code",
      "metadata": {
        "id": "qz9O-gIhjitv",
        "colab_type": "code",
        "colab": {}
      },
      "source": [
        "# COMO SERA ENTRENADA LA NEURONA:\n",
        "train_step = tf.train.GradientDescentOptimizer(0.5).minimize(cross_entropy)\n",
        "#GradientDescentOptimizer: Gradiente descendiente  0.5 = 50%"
      ],
      "execution_count": 0,
      "outputs": []
    },
    {
      "cell_type": "code",
      "metadata": {
        "id": "sEcQqqSLjit1",
        "colab_type": "code",
        "colab": {}
      },
      "source": [
        "session = tf.InteractiveSession()"
      ],
      "execution_count": 0,
      "outputs": []
    },
    {
      "cell_type": "code",
      "metadata": {
        "id": "zkxqKgZejit7",
        "colab_type": "code",
        "colab": {}
      },
      "source": [
        "tf.global_variables_initializer().run()"
      ],
      "execution_count": 0,
      "outputs": []
    },
    {
      "cell_type": "code",
      "metadata": {
        "id": "OkphwCJFjiuC",
        "colab_type": "code",
        "colab": {}
      },
      "source": [
        "for _ in range(10000):\n",
        "    batch_x, batch_y = mnist.train.next_batch(150)\n",
        "    session.run(train_step, feed_dict={x:batch_x, y_: batch_y})"
      ],
      "execution_count": 0,
      "outputs": []
    },
    {
      "cell_type": "markdown",
      "metadata": {
        "id": "UC42_lyYjiuI",
        "colab_type": "text"
      },
      "source": [
        "#### Evaluando la red neuronal\n",
        "\n"
      ]
    },
    {
      "cell_type": "code",
      "metadata": {
        "id": "WblHS0vkjiuK",
        "colab_type": "code",
        "colab": {}
      },
      "source": [
        "correct_predictions = tf.equal(tf.argmax(y_hat, 1), tf.argmax(y_,1))"
      ],
      "execution_count": 0,
      "outputs": []
    },
    {
      "cell_type": "code",
      "metadata": {
        "id": "KwDHHug7jiuR",
        "colab_type": "code",
        "colab": {}
      },
      "source": [
        "accuracy = tf.reduce_mean(tf.cast(correct_predictions, tf.float32))"
      ],
      "execution_count": 0,
      "outputs": []
    },
    {
      "cell_type": "code",
      "metadata": {
        "id": "KBdeAIlhjiuY",
        "colab_type": "code",
        "colab": {},
        "outputId": "e62c31eb-ddcc-45d7-da45-413548483d75"
      },
      "source": [
        "print(session.run(accuracy, feed_dict={x: mnist.test.images, y_: mnist.test.labels}))"
      ],
      "execution_count": 0,
      "outputs": [
        {
          "output_type": "stream",
          "text": [
            "0.9254\n"
          ],
          "name": "stdout"
        }
      ]
    },
    {
      "cell_type": "code",
      "metadata": {
        "id": "iOalX-eRjiuh",
        "colab_type": "code",
        "colab": {}
      },
      "source": [
        ""
      ],
      "execution_count": 0,
      "outputs": []
    }
  ]
}